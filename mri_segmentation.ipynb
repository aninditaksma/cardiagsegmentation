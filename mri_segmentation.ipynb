{
  "nbformat": 4,
  "nbformat_minor": 0,
  "metadata": {
    "colab": {
      "provenance": [],
      "collapsed_sections": []
    },
    "kernelspec": {
      "display_name": "Python 3",
      "language": "python",
      "name": "python3"
    },
    "language_info": {
      "codemirror_mode": {
        "name": "ipython",
        "version": 3
      },
      "file_extension": ".py",
      "mimetype": "text/x-python",
      "name": "python",
      "nbconvert_exporter": "python",
      "pygments_lexer": "ipython3",
      "version": "3.8.5"
    },
    "accelerator": "GPU",
    "widgets": {
      "application/vnd.jupyter.widget-state+json": {
        "8bc58c4dbe024365a0982f9a7d0ac275": {
          "model_module": "@jupyter-widgets/controls",
          "model_name": "HBoxModel",
          "model_module_version": "1.5.0",
          "state": {
            "_view_name": "HBoxView",
            "_dom_classes": [],
            "_model_name": "HBoxModel",
            "_view_module": "@jupyter-widgets/controls",
            "_model_module_version": "1.5.0",
            "_view_count": null,
            "_view_module_version": "1.5.0",
            "box_style": "",
            "layout": "IPY_MODEL_79833ff98a204a27ba58cd6dedecdf1e",
            "_model_module": "@jupyter-widgets/controls",
            "children": [
              "IPY_MODEL_140d88a3cd2d405586c1f0d3c55c3075",
              "IPY_MODEL_06bfb347ce5d4ff2ad74b06cbaf04ccf",
              "IPY_MODEL_48d8e1fcdd06410d8e1f5e19401677a9"
            ]
          }
        },
        "79833ff98a204a27ba58cd6dedecdf1e": {
          "model_module": "@jupyter-widgets/base",
          "model_name": "LayoutModel",
          "model_module_version": "1.2.0",
          "state": {
            "_view_name": "LayoutView",
            "grid_template_rows": null,
            "right": null,
            "justify_content": null,
            "_view_module": "@jupyter-widgets/base",
            "overflow": null,
            "_model_module_version": "1.2.0",
            "_view_count": null,
            "flex_flow": null,
            "width": null,
            "min_width": null,
            "border": null,
            "align_items": null,
            "bottom": null,
            "_model_module": "@jupyter-widgets/base",
            "top": null,
            "grid_column": null,
            "overflow_y": null,
            "overflow_x": null,
            "grid_auto_flow": null,
            "grid_area": null,
            "grid_template_columns": null,
            "flex": null,
            "_model_name": "LayoutModel",
            "justify_items": null,
            "grid_row": null,
            "max_height": null,
            "align_content": null,
            "visibility": null,
            "align_self": null,
            "height": null,
            "min_height": null,
            "padding": null,
            "grid_auto_rows": null,
            "grid_gap": null,
            "max_width": null,
            "order": null,
            "_view_module_version": "1.2.0",
            "grid_template_areas": null,
            "object_position": null,
            "object_fit": null,
            "grid_auto_columns": null,
            "margin": null,
            "display": null,
            "left": null
          }
        },
        "140d88a3cd2d405586c1f0d3c55c3075": {
          "model_module": "@jupyter-widgets/controls",
          "model_name": "HTMLModel",
          "model_module_version": "1.5.0",
          "state": {
            "_view_name": "HTMLView",
            "style": "IPY_MODEL_55140d289af2476580b55af1676361f4",
            "_dom_classes": [],
            "description": "",
            "_model_name": "HTMLModel",
            "placeholder": "​",
            "_view_module": "@jupyter-widgets/controls",
            "_model_module_version": "1.5.0",
            "value": "100%",
            "_view_count": null,
            "_view_module_version": "1.5.0",
            "description_tooltip": null,
            "_model_module": "@jupyter-widgets/controls",
            "layout": "IPY_MODEL_00a57c98c1a14871b28a1e364bf55da7"
          }
        },
        "06bfb347ce5d4ff2ad74b06cbaf04ccf": {
          "model_module": "@jupyter-widgets/controls",
          "model_name": "FloatProgressModel",
          "model_module_version": "1.5.0",
          "state": {
            "_view_name": "ProgressView",
            "style": "IPY_MODEL_d3f3e8aef4954e7fb6859ecf085a016e",
            "_dom_classes": [],
            "description": "",
            "_model_name": "FloatProgressModel",
            "bar_style": "success",
            "max": 102530333,
            "_view_module": "@jupyter-widgets/controls",
            "_model_module_version": "1.5.0",
            "value": 102530333,
            "_view_count": null,
            "_view_module_version": "1.5.0",
            "orientation": "horizontal",
            "min": 0,
            "description_tooltip": null,
            "_model_module": "@jupyter-widgets/controls",
            "layout": "IPY_MODEL_d73fbe8dc7d44cf4a354a42534b99e2b"
          }
        },
        "48d8e1fcdd06410d8e1f5e19401677a9": {
          "model_module": "@jupyter-widgets/controls",
          "model_name": "HTMLModel",
          "model_module_version": "1.5.0",
          "state": {
            "_view_name": "HTMLView",
            "style": "IPY_MODEL_a41971b8c1444c8bbbda89fed768e743",
            "_dom_classes": [],
            "description": "",
            "_model_name": "HTMLModel",
            "placeholder": "​",
            "_view_module": "@jupyter-widgets/controls",
            "_model_module_version": "1.5.0",
            "value": " 97.8M/97.8M [00:02&lt;00:00, 32.1MB/s]",
            "_view_count": null,
            "_view_module_version": "1.5.0",
            "description_tooltip": null,
            "_model_module": "@jupyter-widgets/controls",
            "layout": "IPY_MODEL_1bc40d1130684a80930890502fb32d6f"
          }
        },
        "55140d289af2476580b55af1676361f4": {
          "model_module": "@jupyter-widgets/controls",
          "model_name": "DescriptionStyleModel",
          "model_module_version": "1.5.0",
          "state": {
            "_view_name": "StyleView",
            "_model_name": "DescriptionStyleModel",
            "description_width": "",
            "_view_module": "@jupyter-widgets/base",
            "_model_module_version": "1.5.0",
            "_view_count": null,
            "_view_module_version": "1.2.0",
            "_model_module": "@jupyter-widgets/controls"
          }
        },
        "00a57c98c1a14871b28a1e364bf55da7": {
          "model_module": "@jupyter-widgets/base",
          "model_name": "LayoutModel",
          "model_module_version": "1.2.0",
          "state": {
            "_view_name": "LayoutView",
            "grid_template_rows": null,
            "right": null,
            "justify_content": null,
            "_view_module": "@jupyter-widgets/base",
            "overflow": null,
            "_model_module_version": "1.2.0",
            "_view_count": null,
            "flex_flow": null,
            "width": null,
            "min_width": null,
            "border": null,
            "align_items": null,
            "bottom": null,
            "_model_module": "@jupyter-widgets/base",
            "top": null,
            "grid_column": null,
            "overflow_y": null,
            "overflow_x": null,
            "grid_auto_flow": null,
            "grid_area": null,
            "grid_template_columns": null,
            "flex": null,
            "_model_name": "LayoutModel",
            "justify_items": null,
            "grid_row": null,
            "max_height": null,
            "align_content": null,
            "visibility": null,
            "align_self": null,
            "height": null,
            "min_height": null,
            "padding": null,
            "grid_auto_rows": null,
            "grid_gap": null,
            "max_width": null,
            "order": null,
            "_view_module_version": "1.2.0",
            "grid_template_areas": null,
            "object_position": null,
            "object_fit": null,
            "grid_auto_columns": null,
            "margin": null,
            "display": null,
            "left": null
          }
        },
        "d3f3e8aef4954e7fb6859ecf085a016e": {
          "model_module": "@jupyter-widgets/controls",
          "model_name": "ProgressStyleModel",
          "model_module_version": "1.5.0",
          "state": {
            "_view_name": "StyleView",
            "_model_name": "ProgressStyleModel",
            "description_width": "",
            "_view_module": "@jupyter-widgets/base",
            "_model_module_version": "1.5.0",
            "_view_count": null,
            "_view_module_version": "1.2.0",
            "bar_color": null,
            "_model_module": "@jupyter-widgets/controls"
          }
        },
        "d73fbe8dc7d44cf4a354a42534b99e2b": {
          "model_module": "@jupyter-widgets/base",
          "model_name": "LayoutModel",
          "model_module_version": "1.2.0",
          "state": {
            "_view_name": "LayoutView",
            "grid_template_rows": null,
            "right": null,
            "justify_content": null,
            "_view_module": "@jupyter-widgets/base",
            "overflow": null,
            "_model_module_version": "1.2.0",
            "_view_count": null,
            "flex_flow": null,
            "width": null,
            "min_width": null,
            "border": null,
            "align_items": null,
            "bottom": null,
            "_model_module": "@jupyter-widgets/base",
            "top": null,
            "grid_column": null,
            "overflow_y": null,
            "overflow_x": null,
            "grid_auto_flow": null,
            "grid_area": null,
            "grid_template_columns": null,
            "flex": null,
            "_model_name": "LayoutModel",
            "justify_items": null,
            "grid_row": null,
            "max_height": null,
            "align_content": null,
            "visibility": null,
            "align_self": null,
            "height": null,
            "min_height": null,
            "padding": null,
            "grid_auto_rows": null,
            "grid_gap": null,
            "max_width": null,
            "order": null,
            "_view_module_version": "1.2.0",
            "grid_template_areas": null,
            "object_position": null,
            "object_fit": null,
            "grid_auto_columns": null,
            "margin": null,
            "display": null,
            "left": null
          }
        },
        "a41971b8c1444c8bbbda89fed768e743": {
          "model_module": "@jupyter-widgets/controls",
          "model_name": "DescriptionStyleModel",
          "model_module_version": "1.5.0",
          "state": {
            "_view_name": "StyleView",
            "_model_name": "DescriptionStyleModel",
            "description_width": "",
            "_view_module": "@jupyter-widgets/base",
            "_model_module_version": "1.5.0",
            "_view_count": null,
            "_view_module_version": "1.2.0",
            "_model_module": "@jupyter-widgets/controls"
          }
        },
        "1bc40d1130684a80930890502fb32d6f": {
          "model_module": "@jupyter-widgets/base",
          "model_name": "LayoutModel",
          "model_module_version": "1.2.0",
          "state": {
            "_view_name": "LayoutView",
            "grid_template_rows": null,
            "right": null,
            "justify_content": null,
            "_view_module": "@jupyter-widgets/base",
            "overflow": null,
            "_model_module_version": "1.2.0",
            "_view_count": null,
            "flex_flow": null,
            "width": null,
            "min_width": null,
            "border": null,
            "align_items": null,
            "bottom": null,
            "_model_module": "@jupyter-widgets/base",
            "top": null,
            "grid_column": null,
            "overflow_y": null,
            "overflow_x": null,
            "grid_auto_flow": null,
            "grid_area": null,
            "grid_template_columns": null,
            "flex": null,
            "_model_name": "LayoutModel",
            "justify_items": null,
            "grid_row": null,
            "max_height": null,
            "align_content": null,
            "visibility": null,
            "align_self": null,
            "height": null,
            "min_height": null,
            "padding": null,
            "grid_auto_rows": null,
            "grid_gap": null,
            "max_width": null,
            "order": null,
            "_view_module_version": "1.2.0",
            "grid_template_areas": null,
            "object_position": null,
            "object_fit": null,
            "grid_auto_columns": null,
            "margin": null,
            "display": null,
            "left": null
          }
        }
      }
    }
  },
  "cells": [
    {
      "cell_type": "markdown",
      "metadata": {
        "id": "gsnVbP35-Sso"
      },
      "source": [
        "## 1. Load, show, and save images with OpenCV"
      ]
    },
    {
      "cell_type": "markdown",
      "metadata": {
        "id": "In9TlRlOUfI_"
      },
      "source": [
        "### 1.1 Mount Google drive for dataset"
      ]
    },
    {
      "cell_type": "code",
      "metadata": {
        "id": "mLmkeicKzlxX",
        "colab": {
          "base_uri": "https://localhost:8080/"
        },
        "outputId": "8fa8c007-6b9f-436a-b875-9f6f6645b192"
      },
      "source": [
        "from google.colab import drive\n",
        "drive.mount('/content/drive')"
      ],
      "execution_count": null,
      "outputs": [
        {
          "output_type": "stream",
          "name": "stdout",
          "text": [
            "Mounted at /content/drive\n"
          ]
        }
      ]
    },
    {
      "cell_type": "code",
      "metadata": {
        "id": "lZ5cYEu7FRj6"
      },
      "source": [
        "!mkdir data\n",
        "!cp -r drive/MyDrive/test/data .\n",
        "!mkdir data/train/pred\n",
        "!mkdir data/val/pred\n",
        "!mkdir data/test/pred"
      ],
      "execution_count": null,
      "outputs": []
    },
    {
      "cell_type": "markdown",
      "metadata": {
        "id": "sl4JvauqUpJW"
      },
      "source": [
        "### 1.2 Instantiate plotting function"
      ]
    },
    {
      "cell_type": "code",
      "metadata": {
        "id": "C7ZvSiY3qW_U"
      },
      "source": [
        "from matplotlib import pyplot as plt\n",
        "def show_image_mask(img, mask, cmap='gray'): # visualisation\n",
        "    fig = plt.figure(figsize=(5,5))\n",
        "    plt.subplot(1, 2, 1)\n",
        "    plt.imshow(img, cmap=cmap)\n",
        "    plt.axis('off')\n",
        "    plt.subplot(1, 2, 2)\n",
        "    plt.imshow(mask, cmap=cmap)\n",
        "    plt.axis('off')"
      ],
      "execution_count": null,
      "outputs": []
    },
    {
      "cell_type": "code",
      "metadata": {
        "id": "EN5WJ_XG-Sso",
        "colab": {
          "base_uri": "https://localhost:8080/",
          "height": 175
        },
        "outputId": "3f50699b-9547-4d38-f12b-eb93ac2c80c5"
      },
      "source": [
        "import os\n",
        "import cv2 #import OpenCV\n",
        "\n",
        "data_dir = './data/train'\n",
        "image = cv2.imread(os.path.join(data_dir,'image','cmr1.png'), cv2.IMREAD_UNCHANGED)\n",
        "mask = cv2.imread(os.path.join(data_dir,'mask','cmr1_mask.png'), cv2.IMREAD_UNCHANGED)\n",
        "show_image_mask(image, mask, cmap='gray')\n",
        "plt.pause(1)\n",
        "cv2.imwrite(os.path.join('./','cmr1.png'), mask*85)"
      ],
      "execution_count": null,
      "outputs": [
        {
          "output_type": "display_data",
          "data": {
            "image/png": "[encoded data removed]",
            "text/plain": [
              "<Figure size 360x360 with 2 Axes>"
            ]
          },
          "metadata": {
            "needs_background": "light"
          }
        },
        {
          "output_type": "execute_result",
          "data": {
            "text/plain": [
              "True"
            ]
          },
          "metadata": {},
          "execution_count": 4
        }
      ]
    },
    {
      "cell_type": "markdown",
      "metadata": {
        "id": "5lQmQIJ8UvDO"
      },
      "source": [
        "### 1.3 Instantiate function to split mask image to four channels"
      ]
    },
    {
      "cell_type": "code",
      "metadata": {
        "id": "fANXrv8lU5qG"
      },
      "source": [
        "import numpy as np\n",
        "\n",
        "\n",
        "def mask_split(masks, batch):\n",
        "    masks = masks.numpy()\n",
        "    res = np.zeros((batch, 4, 96, 96))\n",
        "    for idx, mask in enumerate(masks):\n",
        "        for row_idx, rows in enumerate(mask):\n",
        "            for col_idx, val in enumerate(rows):\n",
        "                val = int(val)\n",
        "                if val <= 3:\n",
        "                    res[idx][val][row_idx][col_idx] = 1\n",
        "    return torch.tensor(res)"
      ],
      "execution_count": null,
      "outputs": []
    },
    {
      "cell_type": "markdown",
      "source": [
        "## 2. Define a segmentation model"
      ],
      "metadata": {
        "id": "CxsVlJGbeZ_n"
      }
    },
    {
      "cell_type": "markdown",
      "metadata": {
        "id": "IrKFgoZvUbeg"
      },
      "source": [
        "### 2.1 Define a DataLoader"
      ]
    },
    {
      "cell_type": "markdown",
      "metadata": {
        "id": "kC9s43MqqW_U"
      },
      "source": [
        "Below we provide you with a dataloader to use in your assigment. You will only need to focus on the development of your model and loss function.\n",
        "\n"
      ]
    },
    {
      "cell_type": "code",
      "metadata": {
        "id": "XYrD95T8qz8T",
        "colab": {
          "base_uri": "https://localhost:8080/"
        },
        "outputId": "b1e98a9a-ce9f-4c19-a864-d82248afca96"
      },
      "source": [
        "import torch\n",
        "import torch.utils.data as data\n",
        "import cv2\n",
        "import os\n",
        "from glob import glob\n",
        "\n",
        "device = torch.device(\"cuda:0\" if torch.cuda.is_available() else \"cpu\")\n",
        "print(f\"The current device is {device}\")\n",
        "\n",
        "class TrainDataset(data.Dataset):\n",
        "    def __init__(self, root=''):\n",
        "        super(TrainDataset, self).__init__()\n",
        "        self.img_files = glob(os.path.join(root,'image','*.png'))\n",
        "        self.mask_files = []\n",
        "        for img_path in self.img_files:\n",
        "            basename = os.path.basename(img_path)\n",
        "            self.mask_files.append(os.path.join(root,'mask',basename[:-4]+'_mask.png'))\n",
        "            \n",
        "\n",
        "    def __getitem__(self, index):\n",
        "            img_path = self.img_files[index]\n",
        "            mask_path = self.mask_files[index]\n",
        "            data = cv2.imread(img_path, cv2.IMREAD_UNCHANGED)\n",
        "            label = cv2.imread(mask_path, cv2.IMREAD_UNCHANGED)\n",
        "            return torch.from_numpy(data).float(), torch.from_numpy(label).float()\n",
        "\n",
        "    def __len__(self):\n",
        "        return len(self.img_files)\n",
        "\n",
        "class TestDataset(data.Dataset):\n",
        "    def __init__(self, root=''):\n",
        "        super(TestDataset, self).__init__()\n",
        "        self.img_files = glob(os.path.join(root,'image','*.png'))\n",
        "\n",
        "    def __getitem__(self, index):\n",
        "            img_path = self.img_files[index]\n",
        "            data = cv2.imread(img_path, cv2.IMREAD_UNCHANGED)\n",
        "            return torch.from_numpy(data).float()\n",
        "\n",
        "    def __len__(self):\n",
        "        return len(self.img_files)\n"
      ],
      "execution_count": null,
      "outputs": [
        {
          "output_type": "stream",
          "name": "stdout",
          "text": [
            "The current device is cuda:0\n"
          ]
        }
      ]
    },
    {
      "cell_type": "markdown",
      "metadata": {
        "id": "82UAfnwSUgc_"
      },
      "source": [
        "### 2.2 Define a Segmentation Model"
      ]
    },
    {
      "cell_type": "markdown",
      "metadata": {
        "id": "Q0Be4N0wDH-y"
      },
      "source": [
        "The following are the three models were defined, where all these models are popular choices for semantic segmentation.  "
      ]
    },
    {
      "cell_type": "markdown",
      "metadata": {
        "id": "rO_9MQaoASlk"
      },
      "source": [
        "**1- FCN:**\n",
        "\n",
        "The suggested FCN architecture is taught end-to-end in a single learning stage on a graphics processing unit (GPU) to perform inference at each pixel, a job known as pixel-wise labelling or per-pixel categorization. The model segments each image independently in milliseconds during testing, allowing it to be run in parallel on clusters of GPUs, or both for scalable and accurate ventricular segmentation.\n",
        "\n",
        "In short-axis cardiac MRI recorded at various sites and from different scanners, the fully convolutional neural network (FCN) performs state-of-the-art semantic segmentation. The FCN architecture comprises 15 stacked convolution\n",
        "layers and three layers of overlapping, two-pixel strided max pooling. Each convolution layer is followed by Rectified Linear Unit (ReLU) activation function and MVN operation.\n",
        "\n",
        "\n",
        "Each short-axis slice shows the heart cavity, which contains both the left and right ventricles, about in the centre. To determine our region of interest, we use the square centre crop of each image (ROI). The FCN model's accuracy performance can be influenced by the size of the ROI. To crop the ROI at several sizes that completely contain the ventricles, we used a multi-resolution technique. We normalise each input image's pixel intensity distribution by removing its mean and dividing the difference by the standard deviation. The normalised output is a picture with zero mean and unit variance pixel values. In order to reduce overfitting and increase model generalisation, we use affine transformations (rotation, vertical flipping, and horizontal flipping) to enrich the training set.\n",
        "\n",
        "**2- Deeplab**\n",
        "\n",
        "A deep convolutional neural network ResNet-101 performs semantic segmentation by two steps. First, converting all fully connected layers to convolutional layers (i.e., fully convolutional network). Second, increasing feature resolution with atrous convolutional layers, allowing us to compute feature responses every 8 pixels rather than every 32 pixels in the original network. In the implementation, bi-linear interpolation is used to upsample the score map by a factor of eight to reach the original picture resolution, which is subsequently fed into a fully connected CRF that refines the segmentation findings.\n",
        "\n",
        "The use of DCNNs for semantic segmentation or other dense prediction tasks has been demonstrated to be simple and effective in using fully convolutional DCNNs. The recurrent use of max-pooling and striding at successive layers of these networks diminishes the spatial resolution of the resulting feature maps by a factor of 32 in each direction in modern DCNNs. The use of 'deconvolutional' layers offers a partial solution, although it necessitates additional memory and time.  Instead, atrous convolution is used, where it  was originally created for computing the undecimated wavelet transform efficiently in the \"algorithme à trous\". \n",
        "\n",
        "We may compute the responses of any layer at any desired resolution using this approach. \n",
        "It can be used after a network has been trained, but it can also be easily integrated into the training process. To double the spatial density of computed feature responses in ResNet-101 networks, The last pooling or convolutional layer is located to reduces resolution ('pool5' or 'conv5 1', respectively), stride is setted to 1 to avoid signal decimation, and all subsequent convolutional layers are replaced with atrous convolutional layers with rate r = 2. In order to keep both computation and parameter count under control, state-of-the-art DCNNs use spatially tiny convolution kernels (usually 3*3). Atrous convolution with rate r introduces (r-1) zeros between successive filter values, effectively widening the kernel size of a (k*k) filter to ke = k + (k -1)(r -1) while reducing the number of parameters and computation. As a result, it provides an effective mechanism for controlling the field of view and determining the ideal balance between accurate localization (narrow field of view) and context assimilation (large field-of-view). The input feature map is subsampled by a factor equal to the atrous convolution rate r, then deinterlace it to produce r2 that reduces resolution maps, one for each of the rr possible shifts. Following that, ordinary convolution is used to these intermediate feature maps, and they are re-interlaced to the original image resolution. It allows us to employ off-the-shelf highly efficient convolution methods by reducing atrous convolution to conventional convolution.\n",
        "\n",
        "**3- Unet:**\n",
        "\n",
        "U-net architecture is based on the fully convolutional network where it was developed for biomedical image segmentation. Recent studies showed that U-net architecture is widely used in medical image segmentation. The reason behind that is that these images are usually expensive and difficult to collect , where this architecture has the feature to train the model with a small dataset by using these samples efficiently .\n",
        "This architecture  (illustrated in Figure 1) consists of two paths, namely  contracting path and expansive path. In the first path, the input passes through repetitive application of two 3x3 convolutions. For downsampling each application is followed by a rectified linear unit (ReLU) and max pooling (2x2) and the number of channels is doubled. In the expansive path, the operations are the opposite where each step involves upsampling of the feature map and then applying up-convolution (2x2) that updates the number of channels  to the halve. After that, it is combined with a corresponding feature map in the contracting path, which needs to be cropped to match the image size in the expansive path. Then, passed through two 3x3 convolutions and followed by ReLU for each convolution. Last layer (1x1 convolution) is mapped to each 64  feature vector to the number of classes where in our case is 4 classes.\n",
        "Our implementation followed the same proposed architecture  in [1] except the number of classes where it was two and here is changed to 4 classes (background, LV, RV, Myo). Also, our model is padded convolutions due to the constraints to have the same image size of the input where in [1] they used unpadded convolutions. Moreover, choosing the loss function: cross entropy loss , and the optimizer:stochastic gradient descent was based on the recommendation from the same paper.\n",
        " \n"
      ]
    },
    {
      "cell_type": "code",
      "metadata": {
        "id": "-W6532hFXa_g"
      },
      "source": [
        "import torch\n",
        "import torch.nn as nn\n",
        "import torch.nn.functional as F\n",
        "import torchvision\n",
        "import torchvision.transforms.functional as TF\n",
        "\n",
        "\n",
        "\"\"\"\n",
        "Model: Modified FCN\n",
        "Paper: ...\n",
        "Source: ...\n",
        "\"\"\"\n",
        "def crop_tensors(tensors):\n",
        "    h_dims, w_dims = [], []\n",
        "    for t in tensors:\n",
        "        t_shape = list(t.shape)\n",
        "        h_dims.append(t_shape[2])\n",
        "        w_dims.append(t_shape[3])\n",
        "    crop_h, crop_w = (h_dims[1] - h_dims[0]), (w_dims[1] - w_dims[0])\n",
        "    rem_h = crop_h % 2\n",
        "    rem_w = crop_w % 2\n",
        "    crop_h_dims = (crop_h // 2, crop_h // 2 + rem_h)\n",
        "    crop_w_dims = (crop_w // 2, crop_w // 2 + rem_w)\n",
        "    if crop_h_dims == (0, 0) or crop_w_dims == (0, 0):\n",
        "      return tensors[1]\n",
        "    \n",
        "    tmp = tensors[1].clone().cpu().detach().numpy()\n",
        "    tmp = tmp[:, :, crop_h_dims[0]:-crop_h_dims[1], crop_w_dims[0]:-crop_w_dims[1]]\n",
        "    cropped = torch.tensor(tmp)\n",
        "    global device\n",
        "    cropped = cropped.to(device)\n",
        "    \n",
        "    return cropped\n",
        "    # return tensors[1]\n",
        "\n",
        "\n",
        "class ModFCN(nn.Module):\n",
        "    def __init__(self):\n",
        "        super(ModFCN, self).__init__()\n",
        "        self.conv_init = nn.Conv2d(in_channels=1, out_channels=64, kernel_size=3, stride=1, padding='same')\n",
        "        self.conv1 = nn.Conv2d(in_channels=64, out_channels=64, kernel_size=3, stride=1, padding='same')\n",
        "        self.conv1_2 = nn.Conv2d(in_channels=64, out_channels=128, kernel_size=3, stride=1, padding='same')\n",
        "        self.conv2 = nn.Conv2d(in_channels=128, out_channels=128, kernel_size=3, stride=1, padding='same')\n",
        "        self.conv2_3 = nn.Conv2d(in_channels=128, out_channels=256, kernel_size=3, stride=1, padding='same')\n",
        "        self.conv3 = nn.Conv2d(in_channels=256, out_channels=256, kernel_size=3, stride=1, padding='same')\n",
        "        self.conv3_4 = nn.Conv2d(in_channels=256, out_channels=512, kernel_size=3, stride=1, padding='same')\n",
        "        self.conv4 = nn.Conv2d(in_channels=512, out_channels=512, kernel_size=3, stride=1, padding='same')\n",
        "        self.pool = nn.MaxPool2d(3, stride=2)\n",
        "\n",
        "        self.deconv = nn.Conv2d(in_channels=512, out_channels=4, kernel_size=1, stride=1)\n",
        "        self.upsamp = nn.ConvTranspose2d(in_channels=4, out_channels=4, kernel_size=3, stride=2)\n",
        "        self.conv_to_four_256 = nn.Conv2d(in_channels=256, out_channels=4, kernel_size=1, stride=1)\n",
        "        self.conv_to_four_128 = nn.Conv2d(in_channels=128, out_channels=4, kernel_size=1, stride=1)\n",
        "        self.conv_to_four_64 = nn.Conv2d(in_channels=64, out_channels=4, kernel_size=1, stride=1)\n",
        "\n",
        "        self.softmax = nn.LogSoftmax(dim=1)\n",
        "        self.sigmoid = nn.Sigmoid()\n",
        "        # self.conv_to_one = nn.Conv2d(in_channels=4, out_channels=1, kernel_size=1, stride=1)\n",
        "        self.resize = nn.Upsample(size=96)\n",
        "        \n",
        "    def forward(self, x):\n",
        "        # Convolution\n",
        "        x = F.relu(self.conv_init(x))\n",
        "        for _ in range(2):\n",
        "            x = F.relu(self.conv1(x))\n",
        "        conv_iter1 = x.clone()\n",
        "        x = self.pool(x)\n",
        "        x = F.relu(self.conv1_2(x))\n",
        "        for _ in range(3):\n",
        "            x = F.relu(self.conv2(x))\n",
        "        conv_iter2 = x.clone()\n",
        "        x = self.pool(x)\n",
        "        x = F.relu(self.conv2_3(x))\n",
        "        for _ in range(3):\n",
        "            x = F.relu(self.conv3(x))\n",
        "        conv_iter3 = x.clone()\n",
        "        x = self.pool(x)\n",
        "        x = F.dropout(x)\n",
        "        x = F.relu(self.conv3_4(x))\n",
        "        for _ in range(3):\n",
        "            x = F.relu(self.conv4(x))\n",
        "        x = F.dropout(x)\n",
        "        x = self.pool(x)\n",
        "\n",
        "        # Deconv and Softmax\n",
        "        x = self.deconv(x)\n",
        "\n",
        "        x = self.upsamp(x)\n",
        "        conv_iter3 = self.conv_to_four_256(conv_iter3)\n",
        "        temp = crop_tensors([x.clone(), conv_iter3])\n",
        "        x = torch.stack([x.clone(), temp]).mean(dim=0)\n",
        "\n",
        "        x = self.upsamp(x)\n",
        "        conv_iter2 = self.conv_to_four_128(conv_iter2)\n",
        "        temp = crop_tensors([x.clone(), conv_iter2])\n",
        "        x = torch.stack([x.clone(), temp]).mean(dim=0)\n",
        "\n",
        "        x = self.upsamp(x)\n",
        "        conv_iter1 = self.conv_to_four_64(conv_iter1)\n",
        "        temp = crop_tensors([x.clone(), conv_iter1])\n",
        "        x = torch.stack([x.clone(), temp]).mean(dim=0)\n",
        "\n",
        "        x = self.softmax(x)\n",
        "        # x = self.sigmoid(x)\n",
        "        # x = self.conv_to_one(x)\n",
        "        x = self.resize(x)\n",
        "\n",
        "        return x\n",
        "\n",
        "\n",
        "\n",
        "\"\"\"\n",
        "Model: Prebuilt DeepLabv3_ResNet50\n",
        "Paper: ...\n",
        "Source: ...\n",
        "\"\"\"\n",
        "class DeepLab(nn.Module):\n",
        "    def __init__(self):\n",
        "        super(DeepLab, self).__init__()\n",
        "        model = torchvision.models.segmentation.deeplabv3_resnet50(num_classes=4, aux_loss=False, pretrained=False)\n",
        "        model.backbone.conv1 = nn.Conv2d(1, 64, kernel_size=7, stride=2, padding=3, bias=False)\n",
        "        self.model = nn.ModuleList()\n",
        "        self.model.append(model)\n",
        "        self.out = lambda x: model(x)['out']\n",
        "        \n",
        "    def forward(self, x):\n",
        "        y = self.out(x)\n",
        "\n",
        "        return y\n",
        "\n",
        "\n",
        "\n",
        "class DoubleConv(nn.Module):\n",
        "    def __init__(self, in_channels, out_channels):\n",
        "        super(DoubleConv, self).__init__()\n",
        "        self.conv = nn.Sequential(\n",
        "            nn.Conv2d(in_channels, out_channels, 3, 1, 1, bias=False),\n",
        "            nn.BatchNorm2d(out_channels),\n",
        "            nn.ReLU(inplace=True),\n",
        "            nn.Conv2d(out_channels, out_channels, 3, 1, 1, bias=False),\n",
        "            nn.BatchNorm2d(out_channels),\n",
        "            nn.ReLU(inplace=True),\n",
        "        )\n",
        "\n",
        "    def forward(self, x):\n",
        "        return self.conv(x)\n",
        "\n",
        "\n",
        "\n",
        "\n",
        "\"\"\"\n",
        "Model: UNet Implementation\n",
        "Paper: ...\n",
        "Source: https://github.com/milesial/Pytorch-UNet\n",
        "Adapted to be used in this assignment\n",
        "\"\"\"\n",
        "class DoubleConv(nn.Module):\n",
        "    \"\"\"(convolution => [BN] => ReLU) * 2\"\"\"\n",
        "\n",
        "    def __init__(self, in_channels, out_channels, mid_channels=None):\n",
        "        super().__init__()\n",
        "        if not mid_channels:\n",
        "            mid_channels = out_channels\n",
        "        self.double_conv = nn.Sequential(\n",
        "            nn.Conv2d(in_channels, mid_channels, kernel_size=3, padding=1),\n",
        "            nn.BatchNorm2d(mid_channels),\n",
        "            nn.ReLU(inplace=True),\n",
        "            nn.Conv2d(mid_channels, out_channels, kernel_size=3, padding=1),\n",
        "            nn.BatchNorm2d(out_channels),\n",
        "            nn.ReLU(inplace=True)\n",
        "        )\n",
        "\n",
        "    def forward(self, x):\n",
        "        return self.double_conv(x)\n",
        "\n",
        "\n",
        "class Down(nn.Module):\n",
        "    \"\"\"Downscaling with maxpool then double conv\"\"\"\n",
        "\n",
        "    def __init__(self, in_channels, out_channels):\n",
        "        super().__init__()\n",
        "        self.maxpool_conv = nn.Sequential(\n",
        "            nn.MaxPool2d(2),\n",
        "            DoubleConv(in_channels, out_channels)\n",
        "        )\n",
        "\n",
        "    def forward(self, x):\n",
        "        return self.maxpool_conv(x)\n",
        "\n",
        "\n",
        "class Up(nn.Module):\n",
        "    \"\"\"Upscaling then double conv\"\"\"\n",
        "\n",
        "    def __init__(self, in_channels, out_channels, bilinear=True):\n",
        "        super().__init__()\n",
        "\n",
        "        # if bilinear, use the normal convolutions to reduce the number of channels\n",
        "        if bilinear:\n",
        "            self.up = nn.Upsample(scale_factor=2, mode='bilinear', align_corners=True)\n",
        "            self.conv = DoubleConv(in_channels, out_channels, in_channels // 2)\n",
        "        else:\n",
        "            self.up = nn.ConvTranspose2d(in_channels, in_channels // 2, kernel_size=2, stride=2)\n",
        "            self.conv = DoubleConv(in_channels, out_channels)\n",
        "\n",
        "    def forward(self, x1, x2):\n",
        "        x1 = self.up(x1)\n",
        "        # input is CHW\n",
        "        diffY = x2.size()[2] - x1.size()[2]\n",
        "        diffX = x2.size()[3] - x1.size()[3]\n",
        "\n",
        "        x1 = F.pad(x1, [diffX // 2, diffX - diffX // 2,\n",
        "                        diffY // 2, diffY - diffY // 2])\n",
        "        # if you have padding issues, see\n",
        "        # https://github.com/HaiyongJiang/U-Net-Pytorch-Unstructured-Buggy/commit/0e854509c2cea854e247a9c615f175f76fbb2e3a\n",
        "        # https://github.com/xiaopeng-liao/Pytorch-UNet/commit/8ebac70e633bac59fc22bb5195e513d5832fb3bd\n",
        "        x = torch.cat([x2, x1], dim=1)\n",
        "        return self.conv(x)\n",
        "\n",
        "\n",
        "class OutConv(nn.Module):\n",
        "    def __init__(self, in_channels, out_channels):\n",
        "        super(OutConv, self).__init__()\n",
        "        self.conv = nn.Conv2d(in_channels, out_channels, kernel_size=1)\n",
        "\n",
        "    def forward(self, x):\n",
        "        return self.conv(x)\n",
        "\n",
        "class UNetNew(nn.Module):\n",
        "    def __init__(self, n_classes=4, bilinear=True):\n",
        "        super(UNetNew, self).__init__()\n",
        "        self.n_classes = n_classes\n",
        "        self.bilinear = bilinear\n",
        "        self.n_channels = 1\n",
        "\n",
        "        self.inc = DoubleConv(self.n_channels, 64)\n",
        "        self.down1 = Down(64, 128)\n",
        "        self.down2 = Down(128, 256)\n",
        "        self.down3 = Down(256, 512)\n",
        "        factor = 2 if self.bilinear else 1\n",
        "        self.down4 = Down(512, 1024 // factor)\n",
        "        self.up1 = Up(1024, 512 // factor, self.bilinear)\n",
        "        self.up2 = Up(512, 256 // factor, self.bilinear)\n",
        "        self.up3 = Up(256, 128 // factor, self.bilinear)\n",
        "        self.up4 = Up(128, 64, self.bilinear)\n",
        "        self.outc = OutConv(64, self.n_classes)\n",
        "        self.softmax = nn.Softmax(dim=1)\n",
        "\n",
        "    def forward(self, x):\n",
        "        x1 = self.inc(x)\n",
        "        x2 = self.down1(x1)\n",
        "        x3 = self.down2(x2)\n",
        "        x4 = self.down3(x3)\n",
        "        x5 = self.down4(x4)\n",
        "        x = self.up1(x5, x4)\n",
        "        x = self.up2(x, x3)\n",
        "        x = self.up3(x, x2)\n",
        "        x = self.up4(x, x1)\n",
        "        x = self.outc(x)\n",
        "        x = self.softmax(x)\n",
        "        return x"
      ],
      "execution_count": null,
      "outputs": []
    },
    {
      "cell_type": "markdown",
      "metadata": {
        "id": "nRdPFTa9a34J"
      },
      "source": [
        "### 2.3 Define a Loss function"
      ]
    },
    {
      "cell_type": "code",
      "metadata": {
        "id": "QRjOZGXRbUFT"
      },
      "source": [
        "import torch.optim as optim\n",
        "\n",
        "from torch.autograd import Variable\n",
        "\n",
        "# Adapted from https://www.kaggle.com/bigironsphere/loss-function-library-keras-pytorch\n",
        "class DiceBCELoss(nn.Module):\n",
        "    def __init__(self, weight=None, size_average=True):\n",
        "        super(DiceBCELoss, self).__init__()\n",
        "\n",
        "    def forward(self, inputs, targets, smooth=1):\n",
        "        inputs = inputs.view(-1, 1).squeeze(1).float()\n",
        "        targets = targets.view(-1, 1).squeeze(1).float()\n",
        "\n",
        "        intersection = (inputs * targets).sum()\n",
        "        dice_loss = 1 - (2.*intersection + smooth)/(inputs.sum() + targets.sum() + smooth)\n",
        "        BCE = F.binary_cross_entropy(inputs, targets, reduction='mean')\n",
        "\n",
        "        return BCE + dice_loss"
      ],
      "execution_count": null,
      "outputs": []
    },
    {
      "cell_type": "markdown",
      "metadata": {
        "id": "aoeoGIgxTVp4"
      },
      "source": [
        "## 3. Experiment: Tuning hyperparameter"
      ]
    },
    {
      "cell_type": "markdown",
      "metadata": {
        "id": "8IpApvjRwWwL"
      },
      "source": [
        "### 3.1 Comparing the loss of 3 models (Modified FCN, U-Net, DeepLab)"
      ]
    },
    {
      "cell_type": "markdown",
      "metadata": {
        "id": "UgQWdQjjLsy_"
      },
      "source": [
        "Here we compare 3 models which are Modified FCN, Deeplab, and U-Net. We choose Cross Entropy for the loss function and Adam as optimizer. num_workers, epoch and batch size are initially set to 2,6 and 4 consecutively. From these settings, we want to look at how these models perform at computing train and validation loss."
      ]
    },
    {
      "cell_type": "code",
      "metadata": {
        "id": "59YRSpLGRa58"
      },
      "source": [
        "from torch.utils.data import DataLoader"
      ],
      "execution_count": null,
      "outputs": []
    },
    {
      "cell_type": "code",
      "metadata": {
        "colab": {
          "base_uri": "https://localhost:8080/"
        },
        "id": "5gWDQzfqikfD",
        "outputId": "d63c7a68-cc8b-45fd-960c-59bb10205192"
      },
      "source": [
        "torch.autograd.set_detect_anomaly(True)"
      ],
      "execution_count": null,
      "outputs": [
        {
          "output_type": "execute_result",
          "data": {
            "text/plain": [
              "<torch.autograd.anomaly_mode.set_detect_anomaly at 0x7f3dd521a390>"
            ]
          },
          "metadata": {},
          "execution_count": 10
        }
      ]
    },
    {
      "cell_type": "code",
      "metadata": {
        "id": "rlgibLkwgTJY",
        "colab": {
          "base_uri": "https://localhost:8080/",
          "height": 1000,
          "referenced_widgets": [
            "8bc58c4dbe024365a0982f9a7d0ac275",
            "79833ff98a204a27ba58cd6dedecdf1e",
            "140d88a3cd2d405586c1f0d3c55c3075",
            "06bfb347ce5d4ff2ad74b06cbaf04ccf",
            "48d8e1fcdd06410d8e1f5e19401677a9",
            "55140d289af2476580b55af1676361f4",
            "00a57c98c1a14871b28a1e364bf55da7",
            "d3f3e8aef4954e7fb6859ecf085a016e",
            "d73fbe8dc7d44cf4a354a42534b99e2b",
            "a41971b8c1444c8bbbda89fed768e743",
            "1bc40d1130684a80930890502fb32d6f"
          ]
        },
        "outputId": "94226379-859d-418f-8288-7567a90aedd9"
      },
      "source": [
        "# Experiment Part 1: Comparing the loss of 3 models (Modified FCN, U-Net, DeepLab)\n",
        "\n",
        "models = {\n",
        "    'ModFCN' : ModFCN().to(device),\n",
        "    'DeepLab' : DeepLab().to(device),\n",
        "    'UNET' : UNetNew().to(device)\n",
        "}\n",
        "losses, val_losses = {}, {}\n",
        "num_workers, epoches, batch_size = 2, 6, 4\n",
        "\n",
        "train_path = './data/train'\n",
        "val_path = './data/val'\n",
        "train_set = TrainDataset(train_path)\n",
        "val_set = TrainDataset(val_path)\n",
        "training_data_loader = DataLoader(dataset=train_set, num_workers=num_workers, batch_size=batch_size, shuffle=True)\n",
        "validation_data_loader = DataLoader(dataset=val_set, num_workers=num_workers, batch_size=batch_size, shuffle=True)\n",
        "\n",
        "for model in models:\n",
        "    curr_model = models[model]\n",
        "    losses[model] = list()\n",
        "    val_losses[model] = list()\n",
        "    Loss = nn.CrossEntropyLoss()\n",
        "    optimizer = optim.Adam(curr_model.parameters())\n",
        "\n",
        "    for epoch in range(epoches):\n",
        "        running_loss = 0.0\n",
        "\n",
        "        for iteration, sample1 in enumerate(training_data_loader):\n",
        "            img_train, mask_train = sample1\n",
        "            img_train, mask_train = img_train.to(device).unsqueeze(1), mask_train.long().to(device)\n",
        "\n",
        "            curr_model.train()\n",
        "            optimizer.zero_grad()\n",
        "            outputs_train = curr_model(img_train)\n",
        "            loss = Loss(outputs_train, mask_train)\n",
        "            loss.backward()\n",
        "            optimizer.step()\n",
        "            running_loss += loss.item()\n",
        "            \n",
        "            with torch.no_grad():\n",
        "                running_val_loss = 0.0\n",
        "                curr_model.eval()\n",
        "\n",
        "                for sample2 in validation_data_loader:\n",
        "                    img_val, mask_val = sample2\n",
        "                    img_val, mask_val = img_val.to(device).unsqueeze(1), mask_val.long().to(device)\n",
        "                    \n",
        "                    outputs_val = curr_model(img_val)\n",
        "                    val_loss = Loss(outputs_val, mask_val)\n",
        "                    running_val_loss += val_loss.item()\n",
        "\n",
        "            losses[model].append(running_loss)\n",
        "            val_losses[model].append(running_val_loss/5)\n",
        "            \n",
        "            print(f\"[{model} {epoch+1}-{iteration+1}] Train_loss {running_loss}, Val_loss {running_val_loss/5}\")\n",
        "\n",
        "            running_loss = 0.0\n",
        "            running_val_loss = 0.0\n",
        "\n",
        "plt.figure(figsize=(25,10))\n",
        "plt.plot(range(len(losses['ModFCN'])), losses['ModFCN'],'r', label=\"ModFCN Training loss\")\n",
        "plt.plot(range(len(val_losses['ModFCN'])), val_losses['ModFCN'],'r--', label=\"ModFCN Validation loss\")\n",
        "\n",
        "plt.plot(range(len(losses['DeepLab'])), losses['DeepLab'],'b', label=\"DeepLab Training loss\")\n",
        "plt.plot(range(len(val_losses['DeepLab'])), val_losses['DeepLab'],'b--', label=\"DeepLab Validation loss\")\n",
        "plt.plot(range(len(losses['UNET'])), losses['UNET'],'y', label=\"UNET Training loss\")\n",
        "plt.plot(range(len(val_losses['UNET'])), val_losses['UNET'],'y--', label=\"UNET Validation loss\")\n",
        "plt.ylim(0,5)\n",
        "plt.xlabel(\"Training iterations\")\n",
        "plt.ylabel(\"Loss\")\n",
        "plt.legend()\n",
        "plt.show()"
      ],
      "execution_count": null,
      "outputs": [
        {
          "output_type": "stream",
          "name": "stderr",
          "text": [
            "Downloading: \"https://download.pytorch.org/models/resnet50-0676ba61.pth\" to /root/.cache/torch/hub/checkpoints/resnet50-0676ba61.pth\n"
          ]
        },
        {
          "output_type": "display_data",
          "data": {
            "application/vnd.jupyter.widget-view+json": {
              "model_id": "8bc58c4dbe024365a0982f9a7d0ac275",
              "version_minor": 0,
              "version_major": 2
            },
            "text/plain": [
              "  0%|          | 0.00/97.8M [00:00<?, ?B/s]"
            ]
          },
          "metadata": {}
        },
        {
          "output_type": "stream",
          "name": "stdout",
          "text": [
            "[ModFCN 1-1] Train_loss 2.2490997314453125, Val_loss 2.415770244598389\n",
            "[ModFCN 1-2] Train_loss 2.365121603012085, Val_loss 3.624043846130371\n",
            "[ModFCN 1-3] Train_loss 3.285752058029175, Val_loss 145.47705688476563\n",
            "[ModFCN 1-4] Train_loss 134.24948120117188, Val_loss 3.6081768035888673\n",
            "[ModFCN 1-5] Train_loss 3.008918285369873, Val_loss 2.9340702056884767\n",
            "[ModFCN 1-6] Train_loss 2.7750701904296875, Val_loss 2.4151472568511965\n",
            "[ModFCN 1-7] Train_loss 2.4523494243621826, Val_loss 2.038005828857422\n",
            "[ModFCN 1-8] Train_loss 1.9680705070495605, Val_loss 1.771137285232544\n",
            "[ModFCN 1-9] Train_loss 1.659123420715332, Val_loss 1.6010177850723266\n",
            "[ModFCN 1-10] Train_loss 1.5592846870422363, Val_loss 1.4861209392547607\n",
            "[ModFCN 1-11] Train_loss 1.4576503038406372, Val_loss 1.4152940034866333\n",
            "[ModFCN 1-12] Train_loss 1.394014835357666, Val_loss 1.369694423675537\n",
            "[ModFCN 1-13] Train_loss 1.3637104034423828, Val_loss 1.332606554031372\n",
            "[ModFCN 1-14] Train_loss 1.3393678665161133, Val_loss 1.3040635585784912\n",
            "[ModFCN 1-15] Train_loss 1.2836905717849731, Val_loss 1.2850759983062745\n",
            "[ModFCN 1-16] Train_loss 1.2783808708190918, Val_loss 1.2730827331542969\n",
            "[ModFCN 1-17] Train_loss 1.2916769981384277, Val_loss 1.2599162340164185\n",
            "[ModFCN 1-18] Train_loss 1.262135624885559, Val_loss 1.2455859661102295\n",
            "[ModFCN 1-19] Train_loss 1.2611606121063232, Val_loss 1.2305768728256226\n",
            "[ModFCN 1-20] Train_loss 1.2464035749435425, Val_loss 1.2156747579574585\n",
            "[ModFCN 1-21] Train_loss 1.2446885108947754, Val_loss 1.2016234636306762\n",
            "[ModFCN 1-22] Train_loss 1.219273328781128, Val_loss 1.188674759864807\n",
            "[ModFCN 1-23] Train_loss 1.2079102993011475, Val_loss 1.1769193649291991\n",
            "[ModFCN 1-24] Train_loss 1.2085410356521606, Val_loss 1.1663012504577637\n",
            "[ModFCN 1-25] Train_loss 1.1952745914459229, Val_loss 1.1567293882369996\n",
            "[ModFCN 2-1] Train_loss 1.2020421028137207, Val_loss 1.1481323480606078\n",
            "[ModFCN 2-2] Train_loss 1.165560007095337, Val_loss 1.1404086351394653\n",
            "[ModFCN 2-3] Train_loss 1.1616851091384888, Val_loss 1.1334789037704467\n",
            "[ModFCN 2-4] Train_loss 1.1929399967193604, Val_loss 1.1272637367248535\n",
            "[ModFCN 2-5] Train_loss 1.148331880569458, Val_loss 1.1216838836669922\n",
            "[ModFCN 2-6] Train_loss 1.1584075689315796, Val_loss 1.1166654109954834\n",
            "[ModFCN 2-7] Train_loss 1.135541558265686, Val_loss 1.1121548891067505\n",
            "[ModFCN 2-8] Train_loss 1.1274569034576416, Val_loss 1.1080930471420287\n",
            "[ModFCN 2-9] Train_loss 1.1057195663452148, Val_loss 1.1044128656387329\n",
            "[ModFCN 2-10] Train_loss 1.1448607444763184, Val_loss 1.1010783195495606\n",
            "[ModFCN 2-11] Train_loss 1.1704812049865723, Val_loss 1.098043727874756\n",
            "[ModFCN 2-12] Train_loss 1.158021092414856, Val_loss 1.0952788591384888\n",
            "[ModFCN 2-13] Train_loss 1.1220703125, Val_loss 1.0927632093429565\n",
            "[ModFCN 2-14] Train_loss 1.1143866777420044, Val_loss 1.0904393911361694\n",
            "[ModFCN 2-15] Train_loss 1.122177004814148, Val_loss 1.0883482217788696\n",
            "[ModFCN 2-16] Train_loss 1.130230188369751, Val_loss 1.086434555053711\n",
            "[ModFCN 2-17] Train_loss 1.1424554586410522, Val_loss 1.0846663475036622\n",
            "[ModFCN 2-18] Train_loss 1.1733542680740356, Val_loss 1.083024501800537\n",
            "[ModFCN 2-19] Train_loss 1.1173516511917114, Val_loss 1.0814966440200806\n",
            "[ModFCN 2-20] Train_loss 1.1258044242858887, Val_loss 1.080056095123291\n",
            "[ModFCN 2-21] Train_loss 1.0806394815444946, Val_loss 1.0786837816238404\n",
            "[ModFCN 2-22] Train_loss 1.0935311317443848, Val_loss 1.0773608684539795\n",
            "[ModFCN 2-23] Train_loss 1.1094390153884888, Val_loss 1.0757466077804565\n",
            "[ModFCN 2-24] Train_loss 1.1138426065444946, Val_loss 1.0741509914398193\n",
            "[ModFCN 2-25] Train_loss 1.0820051431655884, Val_loss 1.0725336790084838\n",
            "[ModFCN 3-1] Train_loss 1.1215062141418457, Val_loss 1.0708110809326172\n",
            "[ModFCN 3-2] Train_loss 1.1178998947143555, Val_loss 1.069099235534668\n",
            "[ModFCN 3-3] Train_loss 1.137808918952942, Val_loss 1.0675195574760437\n",
            "[ModFCN 3-4] Train_loss 1.0949259996414185, Val_loss 1.066327452659607\n",
            "[ModFCN 3-5] Train_loss 1.124861478805542, Val_loss 1.065317165851593\n",
            "[ModFCN 3-6] Train_loss 1.0981485843658447, Val_loss 1.0592923164367676\n",
            "[ModFCN 3-7] Train_loss 1.0698297023773193, Val_loss 1.0504193544387816\n",
            "[ModFCN 3-8] Train_loss 1.1321390867233276, Val_loss 1.0371176600456238\n",
            "[ModFCN 3-9] Train_loss 1.0899105072021484, Val_loss 1.0227063298225403\n",
            "[ModFCN 3-10] Train_loss 1.0538510084152222, Val_loss 1.011000657081604\n",
            "[ModFCN 3-11] Train_loss 1.019929051399231, Val_loss 1.0014847993850708\n",
            "[ModFCN 3-12] Train_loss 1.068379521369934, Val_loss 0.9943517088890076\n",
            "[ModFCN 3-13] Train_loss 1.095153570175171, Val_loss 0.9884854912757873\n",
            "[ModFCN 3-14] Train_loss 1.0438284873962402, Val_loss 0.9836014032363891\n",
            "[ModFCN 3-15] Train_loss 1.046934723854065, Val_loss 0.9797814607620239\n",
            "[ModFCN 3-16] Train_loss 1.0199341773986816, Val_loss 0.9765869855880738\n",
            "[ModFCN 3-17] Train_loss 0.98796546459198, Val_loss 0.9741093754768372\n",
            "[ModFCN 3-18] Train_loss 0.9535582661628723, Val_loss 0.9729127168655396\n",
            "[ModFCN 3-19] Train_loss 0.9643524885177612, Val_loss 0.9727898359298706\n",
            "[ModFCN 3-20] Train_loss 0.9769647121429443, Val_loss 0.9728673219680786\n",
            "[ModFCN 3-21] Train_loss 0.916437566280365, Val_loss 0.9732839345932007\n",
            "[ModFCN 3-22] Train_loss 0.953088104724884, Val_loss 0.9737201571464539\n",
            "[ModFCN 3-23] Train_loss 0.9829274415969849, Val_loss 0.9743034839630127\n",
            "[ModFCN 3-24] Train_loss 1.0530120134353638, Val_loss 0.9750505685806274\n",
            "[ModFCN 3-25] Train_loss 1.098824143409729, Val_loss 0.9757191181182862\n",
            "[ModFCN 4-1] Train_loss 0.9812870025634766, Val_loss 0.976466155052185\n",
            "[ModFCN 4-2] Train_loss 0.9921033382415771, Val_loss 0.9771545052528381\n",
            "[ModFCN 4-3] Train_loss 1.0764646530151367, Val_loss 0.9779234409332276\n",
            "[ModFCN 4-4] Train_loss 0.9723228812217712, Val_loss 0.9786358952522278\n",
            "[ModFCN 4-5] Train_loss 0.9577423930168152, Val_loss 0.9792353391647339\n",
            "[ModFCN 4-6] Train_loss 1.0465540885925293, Val_loss 0.9798537731170655\n",
            "[ModFCN 4-7] Train_loss 0.97054523229599, Val_loss 0.9804643630981446\n",
            "[ModFCN 4-8] Train_loss 1.0337674617767334, Val_loss 0.980983316898346\n",
            "[ModFCN 4-9] Train_loss 1.0022411346435547, Val_loss 0.9815593838691712\n",
            "[ModFCN 4-10] Train_loss 0.9932933449745178, Val_loss 0.9818655371665954\n",
            "[ModFCN 4-11] Train_loss 0.9260828495025635, Val_loss 0.9823273301124573\n",
            "[ModFCN 4-12] Train_loss 0.9624340534210205, Val_loss 0.9827499985694885\n",
            "[ModFCN 4-13] Train_loss 0.9936451315879822, Val_loss 0.9831734657287597\n",
            "[ModFCN 4-14] Train_loss 0.9403046369552612, Val_loss 0.9834511637687683\n",
            "[ModFCN 4-15] Train_loss 1.0365487337112427, Val_loss 0.983641755580902\n",
            "[ModFCN 4-16] Train_loss 1.0408263206481934, Val_loss 0.9839779138565063\n",
            "[ModFCN 4-17] Train_loss 1.0374889373779297, Val_loss 0.9841053366661072\n",
            "[ModFCN 4-18] Train_loss 0.9799021482467651, Val_loss 0.9842513918876648\n",
            "[ModFCN 4-19] Train_loss 1.0928149223327637, Val_loss 0.9843749880790711\n",
            "[ModFCN 4-20] Train_loss 1.0690314769744873, Val_loss 0.9843945503234863\n",
            "[ModFCN 4-21] Train_loss 1.0861743688583374, Val_loss 0.9844884634017944\n",
            "[ModFCN 4-22] Train_loss 0.9329609274864197, Val_loss 0.9845702886581421\n",
            "[ModFCN 4-23] Train_loss 1.0934721231460571, Val_loss 0.9845701456069946\n",
            "[ModFCN 4-24] Train_loss 0.8638797402381897, Val_loss 0.9845727443695068\n",
            "[ModFCN 4-25] Train_loss 1.1304984092712402, Val_loss 0.9846676588058472\n",
            "[ModFCN 5-1] Train_loss 1.0286622047424316, Val_loss 0.9845988988876343\n",
            "[ModFCN 5-2] Train_loss 1.0930819511413574, Val_loss 0.9845920681953431\n",
            "[ModFCN 5-3] Train_loss 1.1508901119232178, Val_loss 0.9846469640731812\n",
            "[ModFCN 5-4] Train_loss 1.0390886068344116, Val_loss 0.9845885396003723\n",
            "[ModFCN 5-5] Train_loss 0.9709141850471497, Val_loss 0.9845921158790588\n",
            "[ModFCN 5-6] Train_loss 0.9416998624801636, Val_loss 0.9846014618873596\n",
            "[ModFCN 5-7] Train_loss 0.9744360446929932, Val_loss 0.9845304846763611\n",
            "[ModFCN 5-8] Train_loss 1.12860906124115, Val_loss 0.9844902038574219\n",
            "[ModFCN 5-9] Train_loss 0.971989631652832, Val_loss 0.9844115853309632\n",
            "[ModFCN 5-10] Train_loss 0.9130933284759521, Val_loss 0.9843295216560364\n",
            "[ModFCN 5-11] Train_loss 1.0334360599517822, Val_loss 0.9842422008514404\n",
            "[ModFCN 5-12] Train_loss 1.0059611797332764, Val_loss 0.9841602206230163\n",
            "[ModFCN 5-13] Train_loss 0.9924148917198181, Val_loss 0.9840966105461121\n",
            "[ModFCN 5-14] Train_loss 1.1873221397399902, Val_loss 0.984082555770874\n",
            "[ModFCN 5-15] Train_loss 1.0108541250228882, Val_loss 0.9839241743087769\n",
            "[ModFCN 5-16] Train_loss 1.1134954690933228, Val_loss 0.9838403224945068\n",
            "[ModFCN 5-17] Train_loss 0.9213425517082214, Val_loss 0.983753216266632\n",
            "[ModFCN 5-18] Train_loss 1.0140142440795898, Val_loss 0.9835973858833313\n",
            "[ModFCN 5-19] Train_loss 0.9545111060142517, Val_loss 0.9835860848426818\n",
            "[ModFCN 5-20] Train_loss 0.9001052379608154, Val_loss 0.9834574460983276\n",
            "[ModFCN 5-21] Train_loss 0.9504841566085815, Val_loss 0.9833282113075257\n",
            "[ModFCN 5-22] Train_loss 0.9495558142662048, Val_loss 0.983233630657196\n",
            "[ModFCN 5-23] Train_loss 0.926121175289154, Val_loss 0.983087158203125\n",
            "[ModFCN 5-24] Train_loss 1.0041470527648926, Val_loss 0.9829464077949523\n",
            "[ModFCN 5-25] Train_loss 1.0028862953186035, Val_loss 0.9828754544258118\n",
            "[ModFCN 6-1] Train_loss 1.0049443244934082, Val_loss 0.982812476158142\n",
            "[ModFCN 6-2] Train_loss 1.042425274848938, Val_loss 0.9826491475105286\n",
            "[ModFCN 6-3] Train_loss 0.9408592581748962, Val_loss 0.98257417678833\n",
            "[ModFCN 6-4] Train_loss 1.0155887603759766, Val_loss 0.9824304223060608\n",
            "[ModFCN 6-5] Train_loss 0.9727306365966797, Val_loss 0.9822429418563843\n",
            "[ModFCN 6-6] Train_loss 0.9893300533294678, Val_loss 0.9822720885276794\n",
            "[ModFCN 6-7] Train_loss 1.0452418327331543, Val_loss 0.9820298552513123\n",
            "[ModFCN 6-8] Train_loss 1.0022196769714355, Val_loss 0.982008409500122\n",
            "[ModFCN 6-9] Train_loss 0.9406015872955322, Val_loss 0.9818024277687073\n",
            "[ModFCN 6-10] Train_loss 1.041420578956604, Val_loss 0.9816889047622681\n",
            "[ModFCN 6-11] Train_loss 0.9872007369995117, Val_loss 0.9815010547637939\n",
            "[ModFCN 6-12] Train_loss 0.9816216230392456, Val_loss 0.9813656091690064\n",
            "[ModFCN 6-13] Train_loss 0.9137973785400391, Val_loss 0.981234860420227\n",
            "[ModFCN 6-14] Train_loss 1.0035041570663452, Val_loss 0.9810055494308472\n",
            "[ModFCN 6-15] Train_loss 1.0010089874267578, Val_loss 0.9808795690536499\n",
            "[ModFCN 6-16] Train_loss 1.1329665184020996, Val_loss 0.9807515740394592\n",
            "[ModFCN 6-17] Train_loss 1.0817986726760864, Val_loss 0.980597972869873\n",
            "[ModFCN 6-18] Train_loss 1.0858433246612549, Val_loss 0.9804996013641357\n",
            "[ModFCN 6-19] Train_loss 1.0631533861160278, Val_loss 0.9803613543510437\n",
            "[ModFCN 6-20] Train_loss 1.0808978080749512, Val_loss 0.980164110660553\n",
            "[ModFCN 6-21] Train_loss 0.9537377953529358, Val_loss 0.9801064610481263\n",
            "[ModFCN 6-22] Train_loss 1.0468120574951172, Val_loss 0.9800291061401367\n",
            "[ModFCN 6-23] Train_loss 0.9204825162887573, Val_loss 0.9797865629196167\n",
            "[ModFCN 6-24] Train_loss 0.9798154830932617, Val_loss 0.9796856045722961\n",
            "[ModFCN 6-25] Train_loss 0.8697679042816162, Val_loss 0.9795713424682617\n",
            "[DeepLab 1-1] Train_loss 1.5837244987487793, Val_loss 1.5818347215652466\n",
            "[DeepLab 1-2] Train_loss 1.3923298120498657, Val_loss 1.3342381477355958\n",
            "[DeepLab 1-3] Train_loss 1.287280797958374, Val_loss 1.194662857055664\n",
            "[DeepLab 1-4] Train_loss 1.0591400861740112, Val_loss 1.72499577999115\n",
            "[DeepLab 1-5] Train_loss 0.8978530168533325, Val_loss 1.4117809534072876\n",
            "[DeepLab 1-6] Train_loss 0.6876933574676514, Val_loss 1.7576980113983154\n",
            "[DeepLab 1-7] Train_loss 0.5924336910247803, Val_loss 1.900512194633484\n",
            "[DeepLab 1-8] Train_loss 0.5529186129570007, Val_loss 0.9919869899749756\n",
            "[DeepLab 1-9] Train_loss 0.5559934973716736, Val_loss 0.6794471383094788\n",
            "[DeepLab 1-10] Train_loss 0.47935664653778076, Val_loss 0.7309878587722778\n",
            "[DeepLab 1-11] Train_loss 0.43183329701423645, Val_loss 0.9988045215606689\n",
            "[DeepLab 1-12] Train_loss 0.44582653045654297, Val_loss 1.462045931816101\n",
            "[DeepLab 1-13] Train_loss 0.3351341784000397, Val_loss 2.080319547653198\n",
            "[DeepLab 1-14] Train_loss 0.3229258358478546, Val_loss 2.964055871963501\n",
            "[DeepLab 1-15] Train_loss 0.27413737773895264, Val_loss 3.680017375946045\n",
            "[DeepLab 1-16] Train_loss 0.3143211603164673, Val_loss 4.938614368438721\n",
            "[DeepLab 1-17] Train_loss 0.3574848473072052, Val_loss 6.859648990631103\n",
            "[DeepLab 1-18] Train_loss 0.3115527629852295, Val_loss 8.144909477233886\n",
            "[DeepLab 1-19] Train_loss 0.25753796100616455, Val_loss 9.338245010375976\n",
            "[DeepLab 1-20] Train_loss 0.3332735598087311, Val_loss 8.653709506988525\n",
            "[DeepLab 1-21] Train_loss 0.26761871576309204, Val_loss 6.34754581451416\n",
            "[DeepLab 1-22] Train_loss 0.24093219637870789, Val_loss 4.854733467102051\n",
            "[DeepLab 1-23] Train_loss 0.30941909551620483, Val_loss 2.693008852005005\n",
            "[DeepLab 1-24] Train_loss 0.4326305687427521, Val_loss 1.4596930027008057\n",
            "[DeepLab 1-25] Train_loss 0.2612498700618744, Val_loss 0.9353274703025818\n",
            "[DeepLab 2-1] Train_loss 0.22050094604492188, Val_loss 0.6131375730037689\n",
            "[DeepLab 2-2] Train_loss 0.2872614562511444, Val_loss 0.4656500220298767\n",
            "[DeepLab 2-3] Train_loss 0.25541719794273376, Val_loss 0.38041974902153014\n",
            "[DeepLab 2-4] Train_loss 0.2556536793708801, Val_loss 0.34171959161758425\n",
            "[DeepLab 2-5] Train_loss 0.2121535688638687, Val_loss 0.31713240742683413\n",
            "[DeepLab 2-6] Train_loss 0.35400205850601196, Val_loss 0.29595361948013305\n",
            "[DeepLab 2-7] Train_loss 0.2905646562576294, Val_loss 0.2842123329639435\n",
            "[DeepLab 2-8] Train_loss 0.20849871635437012, Val_loss 0.28197756707668303\n",
            "[DeepLab 2-9] Train_loss 0.2736738920211792, Val_loss 0.2917041003704071\n",
            "[DeepLab 2-10] Train_loss 0.2134598046541214, Val_loss 0.31122581362724305\n",
            "[DeepLab 2-11] Train_loss 0.2686026990413666, Val_loss 0.3047760516405106\n",
            "[DeepLab 2-12] Train_loss 0.26906293630599976, Val_loss 0.30673555135726926\n",
            "[DeepLab 2-13] Train_loss 0.19383175671100616, Val_loss 0.32376264333724974\n",
            "[DeepLab 2-14] Train_loss 0.1848907768726349, Val_loss 0.33111827075481415\n",
            "[DeepLab 2-15] Train_loss 0.19982002675533295, Val_loss 0.3130448251962662\n",
            "[DeepLab 2-16] Train_loss 0.18722759187221527, Val_loss 0.2823937326669693\n",
            "[DeepLab 2-17] Train_loss 0.18512189388275146, Val_loss 0.2561886876821518\n",
            "[DeepLab 2-18] Train_loss 0.19691455364227295, Val_loss 0.2350114643573761\n",
            "[DeepLab 2-19] Train_loss 0.2003164142370224, Val_loss 0.22454168796539306\n",
            "[DeepLab 2-20] Train_loss 0.25509414076805115, Val_loss 0.2214247077703476\n",
            "[DeepLab 2-21] Train_loss 0.25184929370880127, Val_loss 0.2192615181207657\n",
            "[DeepLab 2-22] Train_loss 0.2339010238647461, Val_loss 0.22697666883468628\n",
            "[DeepLab 2-23] Train_loss 0.24387018382549286, Val_loss 0.24495157301425935\n",
            "[DeepLab 2-24] Train_loss 0.1826590746641159, Val_loss 0.251669380068779\n",
            "[DeepLab 2-25] Train_loss 0.2214239239692688, Val_loss 0.23484185039997102\n",
            "[DeepLab 3-1] Train_loss 0.16068865358829498, Val_loss 0.21640755832195283\n",
            "[DeepLab 3-2] Train_loss 0.187234029173851, Val_loss 0.20357323586940765\n",
            "[DeepLab 3-3] Train_loss 0.19147689640522003, Val_loss 0.20130985975265503\n",
            "[DeepLab 3-4] Train_loss 0.1826533079147339, Val_loss 0.19747548699378967\n",
            "[DeepLab 3-5] Train_loss 0.1559588611125946, Val_loss 0.19179343581199645\n",
            "[DeepLab 3-6] Train_loss 0.13430416584014893, Val_loss 0.1905136674642563\n",
            "[DeepLab 3-7] Train_loss 0.22992151975631714, Val_loss 0.18950577080249786\n",
            "[DeepLab 3-8] Train_loss 0.12785205245018005, Val_loss 0.1949298143386841\n",
            "[DeepLab 3-9] Train_loss 0.24997645616531372, Val_loss 0.2005580931901932\n",
            "[DeepLab 3-10] Train_loss 0.20433539152145386, Val_loss 0.21238255202770234\n",
            "[DeepLab 3-11] Train_loss 0.1527494192123413, Val_loss 0.22668409049510957\n",
            "[DeepLab 3-12] Train_loss 0.1720430701971054, Val_loss 0.2430403560400009\n",
            "[DeepLab 3-13] Train_loss 0.153705894947052, Val_loss 0.2534341931343079\n",
            "[DeepLab 3-14] Train_loss 0.19954459369182587, Val_loss 0.23746511042118074\n",
            "[DeepLab 3-15] Train_loss 0.1842496693134308, Val_loss 0.21337440311908723\n",
            "[DeepLab 3-16] Train_loss 0.26254621148109436, Val_loss 0.19887062907218933\n",
            "[DeepLab 3-17] Train_loss 0.17070144414901733, Val_loss 0.19217684268951415\n",
            "[DeepLab 3-18] Train_loss 0.16479246318340302, Val_loss 0.18349564373493193\n",
            "[DeepLab 3-19] Train_loss 0.15613114833831787, Val_loss 0.1824151486158371\n",
            "[DeepLab 3-20] Train_loss 0.1682581901550293, Val_loss 0.1838337868452072\n",
            "[DeepLab 3-21] Train_loss 0.14021041989326477, Val_loss 0.18468620181083678\n",
            "[DeepLab 3-22] Train_loss 0.1409134417772293, Val_loss 0.19061579406261445\n",
            "[DeepLab 3-23] Train_loss 0.151480570435524, Val_loss 0.19943514168262483\n",
            "[DeepLab 3-24] Train_loss 0.20725208520889282, Val_loss 0.20335181653499604\n",
            "[DeepLab 3-25] Train_loss 0.24917496740818024, Val_loss 0.19796102344989777\n",
            "[DeepLab 4-1] Train_loss 0.21205724775791168, Val_loss 0.1895427703857422\n",
            "[DeepLab 4-2] Train_loss 0.13583363592624664, Val_loss 0.18186832070350648\n",
            "[DeepLab 4-3] Train_loss 0.134940966963768, Val_loss 0.17748546004295349\n",
            "[DeepLab 4-4] Train_loss 0.1433095484972, Val_loss 0.17467375993728637\n",
            "[DeepLab 4-5] Train_loss 0.14093157649040222, Val_loss 0.1714155912399292\n",
            "[DeepLab 4-6] Train_loss 0.1577264964580536, Val_loss 0.16787529289722442\n",
            "[DeepLab 4-7] Train_loss 0.153256356716156, Val_loss 0.16463249623775483\n",
            "[DeepLab 4-8] Train_loss 0.1385946422815323, Val_loss 0.16646079421043397\n",
            "[DeepLab 4-9] Train_loss 0.1473507285118103, Val_loss 0.1725534439086914\n",
            "[DeepLab 4-10] Train_loss 0.12503167986869812, Val_loss 0.1765825241804123\n",
            "[DeepLab 4-11] Train_loss 0.1314540058374405, Val_loss 0.17414179742336272\n",
            "[DeepLab 4-12] Train_loss 0.20197150111198425, Val_loss 0.17082857787609101\n",
            "[DeepLab 4-13] Train_loss 0.2227405458688736, Val_loss 0.17330952882766723\n",
            "[DeepLab 4-14] Train_loss 0.13240425288677216, Val_loss 0.17988062500953675\n",
            "[DeepLab 4-15] Train_loss 0.14681363105773926, Val_loss 0.18643600940704347\n",
            "[DeepLab 4-16] Train_loss 0.15968187153339386, Val_loss 0.18247195482254028\n",
            "[DeepLab 4-17] Train_loss 0.1316375732421875, Val_loss 0.1810267984867096\n",
            "[DeepLab 4-18] Train_loss 0.1423184722661972, Val_loss 0.17952825427055358\n",
            "[DeepLab 4-19] Train_loss 0.12434795498847961, Val_loss 0.18499794900417327\n",
            "[DeepLab 4-20] Train_loss 0.19298426806926727, Val_loss 0.17686425745487214\n",
            "[DeepLab 4-21] Train_loss 0.20029394328594208, Val_loss 0.17762349545955658\n",
            "[DeepLab 4-22] Train_loss 0.1336536407470703, Val_loss 0.1877315640449524\n",
            "[DeepLab 4-23] Train_loss 0.11197655647993088, Val_loss 0.2116840124130249\n",
            "[DeepLab 4-24] Train_loss 0.17806440591812134, Val_loss 0.21998936533927918\n",
            "[DeepLab 4-25] Train_loss 0.1787705421447754, Val_loss 0.20756462216377258\n",
            "[DeepLab 5-1] Train_loss 0.11348753422498703, Val_loss 0.20556751191616057\n",
            "[DeepLab 5-2] Train_loss 0.1273428350687027, Val_loss 0.21128645837306975\n",
            "[DeepLab 5-3] Train_loss 0.15199196338653564, Val_loss 0.20912479162216185\n",
            "[DeepLab 5-4] Train_loss 0.16309022903442383, Val_loss 0.1949941784143448\n",
            "[DeepLab 5-5] Train_loss 0.12578386068344116, Val_loss 0.18092292845249175\n",
            "[DeepLab 5-6] Train_loss 0.1324053257703781, Val_loss 0.17245734632015228\n",
            "[DeepLab 5-7] Train_loss 0.10418391227722168, Val_loss 0.1756797969341278\n",
            "[DeepLab 5-8] Train_loss 0.13234728574752808, Val_loss 0.18158119171857834\n",
            "[DeepLab 5-9] Train_loss 0.16415174305438995, Val_loss 0.17565570771694183\n",
            "[DeepLab 5-10] Train_loss 0.12628789246082306, Val_loss 0.16751993894577027\n",
            "[DeepLab 5-11] Train_loss 0.11768271028995514, Val_loss 0.16593194007873535\n",
            "[DeepLab 5-12] Train_loss 0.0959034189581871, Val_loss 0.17362754940986633\n",
            "[DeepLab 5-13] Train_loss 0.1674644649028778, Val_loss 0.17292767465114595\n",
            "[DeepLab 5-14] Train_loss 0.15871790051460266, Val_loss 0.16703134179115295\n",
            "[DeepLab 5-15] Train_loss 0.10394243150949478, Val_loss 0.16726184487342835\n",
            "[DeepLab 5-16] Train_loss 0.15408122539520264, Val_loss 0.17528189420700074\n",
            "[DeepLab 5-17] Train_loss 0.11249072104692459, Val_loss 0.17773227989673615\n",
            "[DeepLab 5-18] Train_loss 0.11841043084859848, Val_loss 0.17930720150470733\n",
            "[DeepLab 5-19] Train_loss 0.11633390933275223, Val_loss 0.17715147733688355\n",
            "[DeepLab 5-20] Train_loss 0.10127003490924835, Val_loss 0.1729656457901001\n",
            "[DeepLab 5-21] Train_loss 0.1296481341123581, Val_loss 0.1691760778427124\n",
            "[DeepLab 5-22] Train_loss 0.13216184079647064, Val_loss 0.16023028790950775\n",
            "[DeepLab 5-23] Train_loss 0.1057872325181961, Val_loss 0.15398450642824174\n",
            "[DeepLab 5-24] Train_loss 0.11270022392272949, Val_loss 0.1507021576166153\n",
            "[DeepLab 5-25] Train_loss 0.12515950202941895, Val_loss 0.1475827991962433\n",
            "[DeepLab 6-1] Train_loss 0.10940442234277725, Val_loss 0.14845950454473494\n",
            "[DeepLab 6-2] Train_loss 0.09833342581987381, Val_loss 0.15354434847831727\n",
            "[DeepLab 6-3] Train_loss 0.1181035041809082, Val_loss 0.15775148570537567\n",
            "[DeepLab 6-4] Train_loss 0.10762038081884384, Val_loss 0.1550508111715317\n",
            "[DeepLab 6-5] Train_loss 0.10985187441110611, Val_loss 0.14814866483211517\n",
            "[DeepLab 6-6] Train_loss 0.09240882843732834, Val_loss 0.14512625485658645\n",
            "[DeepLab 6-7] Train_loss 0.09851554781198502, Val_loss 0.1447868674993515\n",
            "[DeepLab 6-8] Train_loss 0.13067449629306793, Val_loss 0.14725325256586075\n",
            "[DeepLab 6-9] Train_loss 0.1341213583946228, Val_loss 0.15147655606269836\n",
            "[DeepLab 6-10] Train_loss 0.13040141761302948, Val_loss 0.15855102837085724\n",
            "[DeepLab 6-11] Train_loss 0.12897378206253052, Val_loss 0.16124430298805237\n",
            "[DeepLab 6-12] Train_loss 0.10619053244590759, Val_loss 0.16139853298664092\n",
            "[DeepLab 6-13] Train_loss 0.12191474437713623, Val_loss 0.15414399206638335\n",
            "[DeepLab 6-14] Train_loss 0.10945796966552734, Val_loss 0.14942424595355988\n",
            "[DeepLab 6-15] Train_loss 0.11103489995002747, Val_loss 0.15437763929367065\n",
            "[DeepLab 6-16] Train_loss 0.11685766279697418, Val_loss 0.15998295843601226\n",
            "[DeepLab 6-17] Train_loss 0.1204010620713234, Val_loss 0.16039814203977584\n",
            "[DeepLab 6-18] Train_loss 0.09088417887687683, Val_loss 0.1561726748943329\n",
            "[DeepLab 6-19] Train_loss 0.11031028628349304, Val_loss 0.1440901756286621\n",
            "[DeepLab 6-20] Train_loss 0.10039305686950684, Val_loss 0.1352162018418312\n",
            "[DeepLab 6-21] Train_loss 0.10635301470756531, Val_loss 0.1355626568198204\n",
            "[DeepLab 6-22] Train_loss 0.10039189457893372, Val_loss 0.1372358813881874\n",
            "[DeepLab 6-23] Train_loss 0.10632254183292389, Val_loss 0.14042837619781495\n",
            "[DeepLab 6-24] Train_loss 0.1248779296875, Val_loss 0.1392841398715973\n",
            "[DeepLab 6-25] Train_loss 0.0987117812037468, Val_loss 0.14068529158830642\n",
            "[UNET 1-1] Train_loss 1.4397599697113037, Val_loss 1.4663485050201417\n",
            "[UNET 1-2] Train_loss 1.3624755144119263, Val_loss 1.4740870237350463\n",
            "[UNET 1-3] Train_loss 1.3214566707611084, Val_loss 1.4909338712692262\n",
            "[UNET 1-4] Train_loss 1.2804304361343384, Val_loss 1.5041208744049073\n",
            "[UNET 1-5] Train_loss 1.2515689134597778, Val_loss 1.5236155986785889\n",
            "[UNET 1-6] Train_loss 1.2504903078079224, Val_loss 1.5339563608169555\n",
            "[UNET 1-7] Train_loss 1.2111480236053467, Val_loss 1.5579751253128051\n",
            "[UNET 1-8] Train_loss 1.1659128665924072, Val_loss 1.5824539184570312\n",
            "[UNET 1-9] Train_loss 1.1739825010299683, Val_loss 1.6024880886077881\n",
            "[UNET 1-10] Train_loss 1.1440396308898926, Val_loss 1.6453644275665282\n",
            "[UNET 1-11] Train_loss 1.1546587944030762, Val_loss 1.6566470623016358\n",
            "[UNET 1-12] Train_loss 1.129221796989441, Val_loss 1.6106323719024658\n",
            "[UNET 1-13] Train_loss 1.129723310470581, Val_loss 1.5887553453445435\n",
            "[UNET 1-14] Train_loss 1.150395154953003, Val_loss 1.566738486289978\n",
            "[UNET 1-15] Train_loss 1.1171226501464844, Val_loss 1.5068636178970336\n",
            "[UNET 1-16] Train_loss 1.0998022556304932, Val_loss 1.4366838932037354\n",
            "[UNET 1-17] Train_loss 1.0852580070495605, Val_loss 1.375623631477356\n",
            "[UNET 1-18] Train_loss 1.0818145275115967, Val_loss 1.3202458381652833\n",
            "[UNET 1-19] Train_loss 1.1009278297424316, Val_loss 1.2600269317626953\n",
            "[UNET 1-20] Train_loss 1.0399645566940308, Val_loss 1.2389381885528565\n",
            "[UNET 1-21] Train_loss 1.0532586574554443, Val_loss 1.241730809211731\n",
            "[UNET 1-22] Train_loss 1.0356082916259766, Val_loss 1.2446955680847167\n",
            "[UNET 1-23] Train_loss 1.028939962387085, Val_loss 1.226098656654358\n",
            "[UNET 1-24] Train_loss 1.0449777841567993, Val_loss 1.2275678873062135\n",
            "[UNET 1-25] Train_loss 1.0576235055923462, Val_loss 1.2181106567382813\n",
            "[UNET 2-1] Train_loss 1.0276368856430054, Val_loss 1.1872286558151246\n",
            "[UNET 2-2] Train_loss 0.9941183924674988, Val_loss 1.1576846599578858\n",
            "[UNET 2-3] Train_loss 1.0083478689193726, Val_loss 1.1487579107284547\n",
            "[UNET 2-4] Train_loss 1.0098978281021118, Val_loss 1.1185076713562012\n",
            "[UNET 2-5] Train_loss 1.0258511304855347, Val_loss 1.0984148263931275\n",
            "[UNET 2-6] Train_loss 0.9759780168533325, Val_loss 1.0568445444107055\n",
            "[UNET 2-7] Train_loss 0.9849315285682678, Val_loss 1.0220566749572755\n",
            "[UNET 2-8] Train_loss 0.9721201658248901, Val_loss 0.9990565657615662\n",
            "[UNET 2-9] Train_loss 0.961074709892273, Val_loss 0.9891684532165528\n",
            "[UNET 2-10] Train_loss 0.9866771697998047, Val_loss 1.0040716648101806\n",
            "[UNET 2-11] Train_loss 0.9505503177642822, Val_loss 1.021809196472168\n",
            "[UNET 2-12] Train_loss 0.9480460286140442, Val_loss 1.0393493890762329\n",
            "[UNET 2-13] Train_loss 0.9546343684196472, Val_loss 1.0461441278457642\n",
            "[UNET 2-14] Train_loss 1.027994155883789, Val_loss 1.0206719994544984\n",
            "[UNET 2-15] Train_loss 0.9771543145179749, Val_loss 1.006047773361206\n",
            "[UNET 2-16] Train_loss 0.9672309160232544, Val_loss 1.0300487756729126\n",
            "[UNET 2-17] Train_loss 0.9409889578819275, Val_loss 1.0201281309127808\n",
            "[UNET 2-18] Train_loss 0.9786133170127869, Val_loss 1.0054015159606933\n",
            "[UNET 2-19] Train_loss 0.9509351253509521, Val_loss 0.9749917149543762\n",
            "[UNET 2-20] Train_loss 0.9701775312423706, Val_loss 0.9677438259124755\n",
            "[UNET 2-21] Train_loss 0.9173859357833862, Val_loss 0.9628556609153748\n",
            "[UNET 2-22] Train_loss 0.9287039637565613, Val_loss 0.9706575036048889\n",
            "[UNET 2-23] Train_loss 0.930034875869751, Val_loss 0.9736411690711975\n",
            "[UNET 2-24] Train_loss 0.9128029942512512, Val_loss 0.9704963445663453\n",
            "[UNET 2-25] Train_loss 0.9093952178955078, Val_loss 0.9766515851020813\n",
            "[UNET 3-1] Train_loss 0.9014610648155212, Val_loss 0.9792401790618896\n",
            "[UNET 3-2] Train_loss 0.8990700840950012, Val_loss 0.9757492065429687\n",
            "[UNET 3-3] Train_loss 0.899043619632721, Val_loss 0.9794232487678528\n",
            "[UNET 3-4] Train_loss 0.8966756463050842, Val_loss 0.983327043056488\n",
            "[UNET 3-5] Train_loss 0.8931195139884949, Val_loss 0.9892389059066773\n",
            "[UNET 3-6] Train_loss 0.8837378025054932, Val_loss 0.9832045316696167\n",
            "[UNET 3-7] Train_loss 0.8779503703117371, Val_loss 0.9791969537734986\n",
            "[UNET 3-8] Train_loss 0.8927891850471497, Val_loss 0.9568114638328552\n",
            "[UNET 3-9] Train_loss 0.8648531436920166, Val_loss 0.9371537566184998\n",
            "[UNET 3-10] Train_loss 0.9066507816314697, Val_loss 0.9246382594108582\n",
            "[UNET 3-11] Train_loss 0.8670085668563843, Val_loss 0.9110655903816223\n",
            "[UNET 3-12] Train_loss 0.9195002317428589, Val_loss 0.9016437292098999\n",
            "[UNET 3-13] Train_loss 0.8715614080429077, Val_loss 0.8908501148223877\n",
            "[UNET 3-14] Train_loss 0.851655125617981, Val_loss 0.8839684367179871\n",
            "[UNET 3-15] Train_loss 0.8768912553787231, Val_loss 0.8809921860694885\n",
            "[UNET 3-16] Train_loss 0.8619939088821411, Val_loss 0.8799090266227723\n",
            "[UNET 3-17] Train_loss 0.8645548224449158, Val_loss 0.8778228521347046\n",
            "[UNET 3-18] Train_loss 0.857867956161499, Val_loss 0.8759171843528748\n",
            "[UNET 3-19] Train_loss 0.8516788482666016, Val_loss 0.8736623883247375\n",
            "[UNET 3-20] Train_loss 0.8816840052604675, Val_loss 0.8768324732780457\n",
            "[UNET 3-21] Train_loss 0.8431411981582642, Val_loss 0.8833179473876953\n",
            "[UNET 3-22] Train_loss 0.8452270030975342, Val_loss 0.8859403371810913\n",
            "[UNET 3-23] Train_loss 0.8418810963630676, Val_loss 0.8832354664802551\n",
            "[UNET 3-24] Train_loss 0.84288489818573, Val_loss 0.8844388008117676\n",
            "[UNET 3-25] Train_loss 0.8451776504516602, Val_loss 0.8842151045799256\n",
            "[UNET 4-1] Train_loss 0.8644862771034241, Val_loss 0.8874468088150025\n",
            "[UNET 4-2] Train_loss 0.8324584364891052, Val_loss 0.8794500231742859\n",
            "[UNET 4-3] Train_loss 0.8329137563705444, Val_loss 0.8638061642646789\n",
            "[UNET 4-4] Train_loss 0.8411432504653931, Val_loss 0.8487220406532288\n",
            "[UNET 4-5] Train_loss 0.8267937898635864, Val_loss 0.8430469036102295\n",
            "[UNET 4-6] Train_loss 0.8300204277038574, Val_loss 0.84549959897995\n",
            "[UNET 4-7] Train_loss 0.8267651200294495, Val_loss 0.8449616432189941\n",
            "[UNET 4-8] Train_loss 0.8154100775718689, Val_loss 0.845340371131897\n",
            "[UNET 4-9] Train_loss 0.8307117819786072, Val_loss 0.847693657875061\n",
            "[UNET 4-10] Train_loss 0.8338646292686462, Val_loss 0.8528376817703247\n",
            "[UNET 4-11] Train_loss 0.8367230296134949, Val_loss 0.8551231026649475\n",
            "[UNET 4-12] Train_loss 0.8478745222091675, Val_loss 0.856599998474121\n",
            "[UNET 4-13] Train_loss 0.8287918567657471, Val_loss 0.8562396407127381\n",
            "[UNET 4-14] Train_loss 0.8324208855628967, Val_loss 0.8536634564399719\n",
            "[UNET 4-15] Train_loss 0.847870945930481, Val_loss 0.8510017275810242\n",
            "[UNET 4-16] Train_loss 0.8318488597869873, Val_loss 0.8474372386932373\n",
            "[UNET 4-17] Train_loss 0.8278928995132446, Val_loss 0.8364947199821472\n",
            "[UNET 4-18] Train_loss 0.8243853449821472, Val_loss 0.8344192862510681\n",
            "[UNET 4-19] Train_loss 0.8314372897148132, Val_loss 0.8409407615661622\n",
            "[UNET 4-20] Train_loss 0.8238669633865356, Val_loss 0.848814845085144\n",
            "[UNET 4-21] Train_loss 0.8197195529937744, Val_loss 0.8623157143592834\n",
            "[UNET 4-22] Train_loss 0.8172948360443115, Val_loss 0.8783988952636719\n",
            "[UNET 4-23] Train_loss 0.8081545233726501, Val_loss 0.8879279494285583\n",
            "[UNET 4-24] Train_loss 0.8213102221488953, Val_loss 0.8779032707214356\n",
            "[UNET 4-25] Train_loss 0.8104033470153809, Val_loss 0.8660041928291321\n",
            "[UNET 5-1] Train_loss 0.8108795285224915, Val_loss 0.8623484253883362\n",
            "[UNET 5-2] Train_loss 0.8159659504890442, Val_loss 0.8570123195648194\n",
            "[UNET 5-3] Train_loss 0.8115273714065552, Val_loss 0.8468861937522888\n",
            "[UNET 5-4] Train_loss 0.8076251149177551, Val_loss 0.8351025700569152\n",
            "[UNET 5-5] Train_loss 0.8107674717903137, Val_loss 0.8260380744934082\n",
            "[UNET 5-6] Train_loss 0.8056723475456238, Val_loss 0.8209507942199707\n",
            "[UNET 5-7] Train_loss 0.7986699938774109, Val_loss 0.8242833971977234\n",
            "[UNET 5-8] Train_loss 0.7995926141738892, Val_loss 0.832190477848053\n",
            "[UNET 5-9] Train_loss 0.8091930747032166, Val_loss 0.8325767993927002\n",
            "[UNET 5-10] Train_loss 0.8109093904495239, Val_loss 0.826939582824707\n",
            "[UNET 5-11] Train_loss 0.7979975342750549, Val_loss 0.8272919058799744\n",
            "[UNET 5-12] Train_loss 0.7976945638656616, Val_loss 0.8274177551269531\n",
            "[UNET 5-13] Train_loss 0.7993736267089844, Val_loss 0.8285575151443482\n",
            "[UNET 5-14] Train_loss 0.8020050525665283, Val_loss 0.8299514651298523\n",
            "[UNET 5-15] Train_loss 0.7980443835258484, Val_loss 0.8274686336517334\n",
            "[UNET 5-16] Train_loss 0.8185064792633057, Val_loss 0.8202693104743958\n",
            "[UNET 5-17] Train_loss 0.812898576259613, Val_loss 0.812623941898346\n",
            "[UNET 5-18] Train_loss 0.797255277633667, Val_loss 0.8057949781417847\n",
            "[UNET 5-19] Train_loss 0.8153462409973145, Val_loss 0.8027078866958618\n",
            "[UNET 5-20] Train_loss 0.8013109564781189, Val_loss 0.8027647614479065\n",
            "[UNET 5-21] Train_loss 0.808753252029419, Val_loss 0.8059747457504273\n",
            "[UNET 5-22] Train_loss 0.8576420545578003, Val_loss 0.8053404688835144\n",
            "[UNET 5-23] Train_loss 0.8136780261993408, Val_loss 0.8041007280349731\n",
            "[UNET 5-24] Train_loss 0.8288344144821167, Val_loss 0.8039470911026001\n",
            "[UNET 5-25] Train_loss 0.8005786538124084, Val_loss 0.8071086525917053\n",
            "[UNET 6-1] Train_loss 0.8065767884254456, Val_loss 0.8050293684005737\n",
            "[UNET 6-2] Train_loss 0.7873755693435669, Val_loss 0.8057930946350098\n",
            "[UNET 6-3] Train_loss 0.791584312915802, Val_loss 0.8079531788825989\n",
            "[UNET 6-4] Train_loss 0.8044289946556091, Val_loss 0.8106541037559509\n",
            "[UNET 6-5] Train_loss 0.8369066715240479, Val_loss 0.8184536457061767\n",
            "[UNET 6-6] Train_loss 0.7948348522186279, Val_loss 0.8262106776237488\n",
            "[UNET 6-7] Train_loss 0.8084951043128967, Val_loss 0.822347617149353\n",
            "[UNET 6-8] Train_loss 0.7934578061103821, Val_loss 0.8232535243034362\n",
            "[UNET 6-9] Train_loss 0.8089257478713989, Val_loss 0.8244145750999451\n",
            "[UNET 6-10] Train_loss 0.7920771241188049, Val_loss 0.8193845391273499\n",
            "[UNET 6-11] Train_loss 0.8075915575027466, Val_loss 0.803580129146576\n",
            "[UNET 6-12] Train_loss 0.7926238179206848, Val_loss 0.8072848081588745\n",
            "[UNET 6-13] Train_loss 0.7983798980712891, Val_loss 0.8175883293151855\n",
            "[UNET 6-14] Train_loss 0.8248826861381531, Val_loss 0.8301963806152344\n",
            "[UNET 6-15] Train_loss 0.8010876178741455, Val_loss 0.827913498878479\n",
            "[UNET 6-16] Train_loss 0.8040865659713745, Val_loss 0.8225606679916382\n",
            "[UNET 6-17] Train_loss 0.7960256338119507, Val_loss 0.8156692862510682\n",
            "[UNET 6-18] Train_loss 0.8033921122550964, Val_loss 0.8083821177482605\n",
            "[UNET 6-19] Train_loss 0.7994274497032166, Val_loss 0.8049079060554505\n",
            "[UNET 6-20] Train_loss 0.7932649850845337, Val_loss 0.8015244126319885\n",
            "[UNET 6-21] Train_loss 0.7871442437171936, Val_loss 0.8078189492225647\n",
            "[UNET 6-22] Train_loss 0.8057396411895752, Val_loss 0.8057515859603882\n",
            "[UNET 6-23] Train_loss 0.7858631014823914, Val_loss 0.8037883996963501\n",
            "[UNET 6-24] Train_loss 0.7946229577064514, Val_loss 0.8024139642715454\n",
            "[UNET 6-25] Train_loss 0.7918128371238708, Val_loss 0.8029041171073914\n"
          ]
        },
        {
          "output_type": "display_data",
          "data": {
            "image/png": "[encoded data removed]",
            "text/plain": [
              "<Figure size 1800x720 with 1 Axes>"
            ]
          },
          "metadata": {
            "needs_background": "light"
          }
        }
      ]
    },
    {
      "cell_type": "markdown",
      "metadata": {
        "id": "y4bBmQEqZciG"
      },
      "source": [
        "From the graph above, we conclude that among these three models, FCN computed the highest loss. That way we discard FCN and take the other two models to next experiment."
      ]
    },
    {
      "cell_type": "markdown",
      "metadata": {
        "id": "vqGK_R2XwQ4S"
      },
      "source": [
        "### 3.2 Choosing the appropriate epoch and Loss function of the chosen model\n",
        "\n",
        "From Section 3.1, we can see DeepLab_ResNet50 and UNet are more promising than others"
      ]
    },
    {
      "cell_type": "markdown",
      "metadata": {
        "id": "qkek4MZfai5B"
      },
      "source": [
        "#### 3.2.1 Finding epoch for DeepLab_ResNet50"
      ]
    },
    {
      "cell_type": "markdown",
      "metadata": {
        "id": "D3WD2c3EejXT"
      },
      "source": [
        "##### 3.2.1.1 DeepLab_ResNet50 with CrossEntropyLoss"
      ]
    },
    {
      "cell_type": "markdown",
      "metadata": {
        "id": "2KsSGHoxdCCb"
      },
      "source": [
        "Model: DeepLab_Resnet50\n",
        "\n",
        "Loss: CrossEntropyLoss\n",
        "\n",
        "Optimizer: Adam"
      ]
    },
    {
      "cell_type": "code",
      "metadata": {
        "id": "81VBi1IHGxB2",
        "colab": {
          "base_uri": "https://localhost:8080/",
          "height": 787
        },
        "outputId": "2680707e-c8f0-47e0-b1a8-78e1a236dc08"
      },
      "source": [
        "# Experiment Part 2: Choosing the appropriate epoch of the chosen model\n",
        "\n",
        "curr_model = DeepLab().to(device)\n",
        "losses1 = list()\n",
        "val_losses1 = list()\n",
        "Loss = nn.CrossEntropyLoss()\n",
        "optimizer = optim.Adam(curr_model.parameters())\n",
        "\n",
        "epoches = 10\n",
        "for epoch in range(epoches):\n",
        "    running_loss = 0.0\n",
        "    curr_model.train()\n",
        "\n",
        "    for iteration, sample1 in enumerate(training_data_loader):\n",
        "        img_train, mask_train = sample1\n",
        "        img_train, mask_train = img_train.to(device).unsqueeze(1), mask_train.long().to(device)\n",
        "\n",
        "        optimizer.zero_grad()\n",
        "        outputs_train = curr_model(img_train)\n",
        "        loss = Loss(outputs_train, mask_train)\n",
        "        loss.backward()\n",
        "        optimizer.step()\n",
        "        running_loss += loss.item()\n",
        "      \n",
        "    with torch.no_grad():\n",
        "        running_val_loss = 0.0\n",
        "        curr_model.eval()\n",
        "\n",
        "        for sample2 in validation_data_loader:\n",
        "            img_val, mask_val = sample2\n",
        "            img_val, mask_val = img_val.to(device).unsqueeze(1), mask_val.long().to(device)\n",
        "            \n",
        "            outputs_val = curr_model(img_val)\n",
        "            val_loss = Loss(outputs_val, mask_val)\n",
        "            running_val_loss += val_loss.item()\n",
        "\n",
        "    losses1.append(running_loss/25)\n",
        "    val_losses1.append(running_val_loss/5)\n",
        "      \n",
        "    print(f\"[Epoch {epoch+1}] Train_Loss {running_loss/25}, Val_Loss{running_val_loss/5}\")\n",
        "\n",
        "    running_loss = 0.0\n",
        "    running_val_loss = 0.0\n",
        "\n",
        "plt.figure(figsize=(25,10))\n",
        "plt.plot(range(len(losses1)), losses1,'b', label=\"Training loss\")\n",
        "plt.plot(range(len(val_losses1)), val_losses1,'b--', label=\"Validation loss\")\n",
        "plt.ylim(0,1)\n",
        "plt.xlabel(\"Epoch\")\n",
        "plt.ylabel(\"Loss\")\n",
        "plt.legend()\n",
        "plt.show()"
      ],
      "execution_count": null,
      "outputs": [
        {
          "output_type": "stream",
          "name": "stdout",
          "text": [
            "[Epoch 1] Train_Loss 0.4650471419095993, Val_Loss0.32639444172382354\n",
            "[Epoch 2] Train_Loss 0.2387472176551819, Val_Loss0.23014848828315734\n",
            "[Epoch 3] Train_Loss 0.19545343697071074, Val_Loss0.1959194004535675\n",
            "[Epoch 4] Train_Loss 0.15735752403736114, Val_Loss0.1487342268228531\n",
            "[Epoch 5] Train_Loss 0.12082239747047424, Val_Loss0.1340962290763855\n",
            "[Epoch 6] Train_Loss 0.10681090503931046, Val_Loss0.1340393081307411\n",
            "[Epoch 7] Train_Loss 0.09997429013252258, Val_Loss0.14661067724227905\n",
            "[Epoch 8] Train_Loss 0.0915338459610939, Val_Loss0.11319875568151475\n",
            "[Epoch 9] Train_Loss 0.08311743795871734, Val_Loss0.11823547035455703\n",
            "[Epoch 10] Train_Loss 0.07636344447731971, Val_Loss0.12791990637779235\n"
          ]
        },
        {
          "output_type": "display_data",
          "data": {
            "image/png": "[encoded data removed]",
            "text/plain": [
              "<Figure size 1800x720 with 1 Axes>"
            ]
          },
          "metadata": {
            "needs_background": "light"
          }
        }
      ]
    },
    {
      "cell_type": "markdown",
      "metadata": {
        "id": "CzhN6wuOdgAk"
      },
      "source": [
        "Selected Epoch: 6\n",
        "\n",
        "This epoch is chosen because from the data we can clearly see that after it passes the 6th epoch the validation data increases then it stablises at more or less 0.013, which around the same value for the 6th epoch. Under best circumstances this will be simply uneffecient since the added epoch does not bring any major improvment. on the other circumstances overfitting happens and the model actually decrease in accuracy after it passes the 6th epoch."
      ]
    },
    {
      "cell_type": "markdown",
      "metadata": {
        "id": "If5tisVKaoSJ"
      },
      "source": [
        "#### 3.2.2 Finding epoch for UNet"
      ]
    },
    {
      "cell_type": "markdown",
      "metadata": {
        "id": "UN22xkRtd8op"
      },
      "source": [
        "##### 3.2.2.1 UNet with CrossEntropyLoss"
      ]
    },
    {
      "cell_type": "markdown",
      "metadata": {
        "id": "03ygamtQd_i5"
      },
      "source": [
        "Model: UNet \n",
        "\n",
        "Loss: CrossEntropyLoss\n",
        "\n",
        "Optimizer: Adam"
      ]
    },
    {
      "cell_type": "code",
      "metadata": {
        "colab": {
          "base_uri": "https://localhost:8080/",
          "height": 894
        },
        "id": "GHsOy5lOeDKe",
        "outputId": "6ddcf150-5d88-41af-eb4f-3e050537b41c"
      },
      "source": [
        "# Experiment Part 2: Choosing the appropriate epoch of the chosen model\n",
        "\n",
        "curr_model = UNetNew().to(device)\n",
        "losses1 = list()\n",
        "val_losses1 = list()\n",
        "Loss = nn.CrossEntropyLoss()\n",
        "optimizer = optim.Adam(curr_model.parameters())\n",
        "\n",
        "epoches = 16\n",
        "for epoch in range(epoches):\n",
        "    running_loss = 0.0\n",
        "    curr_model.train()\n",
        "\n",
        "    for iteration, sample1 in enumerate(training_data_loader):\n",
        "        img_train, mask_train = sample1\n",
        "        img_train, mask_train = img_train.to(device).unsqueeze(1), mask_train.long().to(device)\n",
        "\n",
        "        optimizer.zero_grad()\n",
        "        outputs_train = curr_model(img_train)\n",
        "        loss = Loss(outputs_train, mask_train)\n",
        "        loss.backward()\n",
        "        optimizer.step()\n",
        "        running_loss += loss.item()\n",
        "      \n",
        "    with torch.no_grad():\n",
        "        running_val_loss = 0.0\n",
        "        curr_model.eval()\n",
        "\n",
        "        for sample2 in validation_data_loader:\n",
        "            img_val, mask_val = sample2\n",
        "            img_val, mask_val = img_val.to(device).unsqueeze(1), mask_val.long().to(device)\n",
        "            \n",
        "            outputs_val = curr_model(img_val)\n",
        "            val_loss = Loss(outputs_val, mask_val)\n",
        "            running_val_loss += val_loss.item()\n",
        "\n",
        "    losses1.append(running_loss/25)\n",
        "    val_losses1.append(running_val_loss/5)\n",
        "      \n",
        "    print(f\"[Epoch {epoch+1}] Train_Loss {running_loss/25}, Val_Loss{running_val_loss/5}\")\n",
        "\n",
        "    running_loss = 0.0\n",
        "    running_val_loss = 0.0\n",
        "\n",
        "plt.figure(figsize=(25,10))\n",
        "plt.plot(range(len(losses1)), losses1,'b', label=\"Training loss\")\n",
        "plt.plot(range(len(val_losses1)), val_losses1,'b--', label=\"Validation loss\")\n",
        "plt.ylim(0,1)\n",
        "plt.xlabel(\"Epoch\")\n",
        "plt.ylabel(\"Loss\")\n",
        "plt.legend()\n",
        "plt.show()"
      ],
      "execution_count": null,
      "outputs": [
        {
          "output_type": "stream",
          "name": "stdout",
          "text": [
            "[Epoch 1] Train_Loss 1.0707325720787049, Val_Loss1.3329071521759033\n",
            "[Epoch 2] Train_Loss 0.8955217051506043, Val_Loss0.9111559748649597\n",
            "[Epoch 3] Train_Loss 0.8322690796852111, Val_Loss0.8454147577285767\n",
            "[Epoch 4] Train_Loss 0.8117023873329162, Val_Loss0.8271746635437012\n",
            "[Epoch 5] Train_Loss 0.8008112716674805, Val_Loss0.8159842371940613\n",
            "[Epoch 6] Train_Loss 0.7882499194145203, Val_Loss0.7936967968940735\n",
            "[Epoch 7] Train_Loss 0.7875785970687866, Val_Loss0.8159372925758361\n",
            "[Epoch 8] Train_Loss 0.7885458707809448, Val_Loss0.7950983285903931\n",
            "[Epoch 9] Train_Loss 0.7817807292938233, Val_Loss0.7829354763031006\n",
            "[Epoch 10] Train_Loss 0.7739992094039917, Val_Loss0.7746052026748658\n",
            "[Epoch 11] Train_Loss 0.7715673804283142, Val_Loss0.7726900100708007\n",
            "[Epoch 12] Train_Loss 0.7688778567314148, Val_Loss0.7702374339103699\n",
            "[Epoch 13] Train_Loss 0.7687135505676269, Val_Loss0.7782639741897583\n",
            "[Epoch 14] Train_Loss 0.7704976797103882, Val_Loss0.782388174533844\n",
            "[Epoch 15] Train_Loss 0.7718742537498474, Val_Loss0.78077632188797\n",
            "[Epoch 16] Train_Loss 0.7689671683311462, Val_Loss0.774761700630188\n"
          ]
        },
        {
          "output_type": "display_data",
          "data": {
            "image/png": "[encoded data removed]",
            "text/plain": [
              "<Figure size 1800x720 with 1 Axes>"
            ]
          },
          "metadata": {
            "needs_background": "light"
          }
        }
      ]
    },
    {
      "cell_type": "markdown",
      "metadata": {
        "id": "r5q93p9IEnz2"
      },
      "source": [
        "Selected Epoch: 6.\n",
        "\n",
        "Because from the data we can clearly see that after it passes the 6th epoch the validation data goes up then stright. Under best circumstances this will be simply uneffecient since the added epoch does not bring any major improvment. on the other circumstances overfitting happens and the model actually decrease in accuracy after it passes the 6th epoch. A notable feature of this model and loss function is its significantly worse than the other models in term of validation and training data. It is incredibly likely we wont be using this upon further evaluation."
      ]
    },
    {
      "cell_type": "markdown",
      "metadata": {
        "id": "dWbQeJONd04h"
      },
      "source": [
        "##### 3.2.2.2 UNet with DiceBCELoss"
      ]
    },
    {
      "cell_type": "markdown",
      "metadata": {
        "id": "cVfgrKXKdO7K"
      },
      "source": [
        "Model: UNet\n",
        "\n",
        "Loss: DiceBCELoss\n",
        "\n",
        "Optimizer: Adam"
      ]
    },
    {
      "cell_type": "code",
      "metadata": {
        "colab": {
          "base_uri": "https://localhost:8080/",
          "height": 894
        },
        "id": "AoLLHsLKbA4y",
        "outputId": "9a7f1f33-fcf5-4676-a157-428bc5dc7a43"
      },
      "source": [
        "# Experiment Part 2: Choosing the appropriate epoch of the chosen model\n",
        "\n",
        "curr_model = UNetNew().to(device)\n",
        "losses1 = list()\n",
        "val_losses1 = list()\n",
        "Loss = DiceBCELoss()\n",
        "optimizer = optim.Adam(curr_model.parameters())\n",
        "\n",
        "epoches = 16\n",
        "for epoch in range(epoches):\n",
        "    running_loss = 0.0\n",
        "    curr_model.train()\n",
        "\n",
        "    for iteration, sample1 in enumerate(training_data_loader):\n",
        "        img_train, mask_train = sample1\n",
        "        mask_train = mask_split(mask_train, batch_size)\n",
        "        img_train, mask_train = img_train.to(device).unsqueeze(1), mask_train.long().to(device)\n",
        "\n",
        "        optimizer.zero_grad()\n",
        "        outputs_train = curr_model(img_train)\n",
        "        loss = Loss(outputs_train, mask_train)\n",
        "        loss.backward()\n",
        "        optimizer.step()\n",
        "        running_loss += loss.item()\n",
        "      \n",
        "    with torch.no_grad():\n",
        "        running_val_loss = 0.0\n",
        "        curr_model.eval()\n",
        "\n",
        "        for sample2 in validation_data_loader:\n",
        "            img_val, mask_val = sample2\n",
        "            mask_val = mask_split(mask_val, batch_size)\n",
        "            img_val, mask_val = img_val.to(device).unsqueeze(1), mask_val.long().to(device)\n",
        "            \n",
        "            outputs_val = curr_model(img_val)\n",
        "            val_loss = Loss(outputs_val, mask_val)\n",
        "            running_val_loss += val_loss.item()\n",
        "\n",
        "    losses1.append(running_loss/25)\n",
        "    val_losses1.append(running_val_loss/5)\n",
        "      \n",
        "    print(f\"[Epoch {epoch+1}] Train_Loss {running_loss/25}, Val_Loss{running_val_loss/5}\")\n",
        "\n",
        "    running_loss = 0.0\n",
        "    running_val_loss = 0.0\n",
        "\n",
        "plt.figure(figsize=(25,10))\n",
        "plt.plot(range(len(losses1)), losses1,'b', label=\"Training loss\")\n",
        "plt.plot(range(len(val_losses1)), val_losses1,'b--', label=\"Validation loss\")\n",
        "plt.ylim(0,1)\n",
        "plt.xlabel(\"Epoch\")\n",
        "plt.ylabel(\"Loss\")\n",
        "plt.legend()\n",
        "plt.show()"
      ],
      "execution_count": null,
      "outputs": [
        {
          "output_type": "stream",
          "name": "stdout",
          "text": [
            "[Epoch 1] Train_Loss 0.8517471337318421, Val_Loss4.10464391708374\n",
            "[Epoch 2] Train_Loss 0.42718254804611205, Val_Loss1.1612524271011353\n",
            "[Epoch 3] Train_Loss 0.23484206616878509, Val_Loss0.21479394733905793\n",
            "[Epoch 4] Train_Loss 0.15623993396759034, Val_Loss0.20565805435180665\n",
            "[Epoch 5] Train_Loss 0.13361641824245452, Val_Loss0.13601951599121093\n",
            "[Epoch 6] Train_Loss 0.11927576422691345, Val_Loss0.11537348926067352\n",
            "[Epoch 7] Train_Loss 0.08936974316835404, Val_Loss0.10897588431835174\n",
            "[Epoch 8] Train_Loss 0.08627930760383606, Val_Loss0.09286389350891114\n",
            "[Epoch 9] Train_Loss 0.09359937757253647, Val_Loss0.11441921144723892\n",
            "[Epoch 10] Train_Loss 0.07991597518324851, Val_Loss0.08415056765079498\n",
            "[Epoch 11] Train_Loss 0.08024417370557785, Val_Loss0.12893050462007521\n",
            "[Epoch 12] Train_Loss 0.07572582691907882, Val_Loss0.11297607272863389\n",
            "[Epoch 13] Train_Loss 0.06765405923128127, Val_Loss0.08683193773031235\n",
            "[Epoch 14] Train_Loss 0.06539783582091331, Val_Loss0.08137679398059845\n",
            "[Epoch 15] Train_Loss 0.06543413385748863, Val_Loss0.07621281519532204\n",
            "[Epoch 16] Train_Loss 0.0601463258266449, Val_Loss0.07341866120696068\n"
          ]
        },
        {
          "output_type": "display_data",
          "data": {
            "image/png": "[encoded data removed]",
            "text/plain": [
              "<Figure size 1800x720 with 1 Axes>"
            ]
          },
          "metadata": {
            "needs_background": "light"
          }
        }
      ]
    },
    {
      "cell_type": "markdown",
      "metadata": {
        "id": "Qz_u_WthdbpW"
      },
      "source": [
        "Selected Loss: DiceBCELoss\n",
        "\n",
        "For this part we are using DiceBCEloss as the loss function. We can clearly see its better. With 0.075 training and 0.11 validation loss for epoch 12. This extremly better than the previous loss function which gives us a 0.783 training loss and 0.793 validation loss.\n",
        "\n",
        "\n",
        "Selected Epoch: 12"
      ]
    },
    {
      "cell_type": "markdown",
      "metadata": {
        "id": "N-Iaw_OEwkcC"
      },
      "source": [
        "### 3.3 Choosing the appropriate optimizer for UNet + DiceBCELoss"
      ]
    },
    {
      "cell_type": "markdown",
      "metadata": {
        "id": "c5ia_t9lGRPp"
      },
      "source": [
        "For this part of the report we are going to choose the appropriate optimizer. the candidates are Adam, SGD and Adagrad.\n",
        "\n",
        "Quick introduction on these three:\n",
        "\n",
        "Adam(short for Adaptive Moment Estimation)is one of the most common optimizer. It works by computing the decaying averages of past and past squared gradients. \n",
        "Adam is generally considered fast and works well. But SGD tends to generalise better in deep learning.\n",
        "\n",
        "Adagrad (shorts for Adaptive Gradient algorithm) works by keeping track of the sums of the gradient squared and then dapat the gradient in different directions.\n",
        "\n",
        "And lastly SGD(stochastic gradient descent) is an iterative method for optimizing an objective function with suitable smoothness properties. It is considered to be regarded as a stochastic approximation of gradient descent optimization,because it replaces the real gradient by an estimatation . \n",
        "Its considered to be useful in high dimensional optimization problem since it has fast iteration.\n",
        "\n",
        "The optimizer we will use will be picked based on the data we will get from this experiment. The method of reviewing said experiment remains the same, with training loss and validation loss.\n",
        "\n",
        "\n",
        "\n"
      ]
    },
    {
      "cell_type": "code",
      "metadata": {
        "colab": {
          "base_uri": "https://localhost:8080/",
          "height": 1000
        },
        "id": "WQrMbwwUkC4r",
        "outputId": "4b1a090d-db18-41fc-f757-d9c21652996a"
      },
      "source": [
        "# Experiment Part 3: Choosing the appropriate optimizer\n",
        "curr_model = UNetNew().to(device)\n",
        "Loss = DiceBCELoss()\n",
        "epochs = 12\n",
        "\n",
        "optimizers = [\n",
        "    optim.Adam(curr_model.parameters()),\n",
        "    optim.SGD(curr_model.parameters(), lr=0.01, momentum=0.9),\n",
        "    optim.Adagrad(curr_model.parameters())\n",
        "]\n",
        "optimizer_losses = list()\n",
        "for optimizer in optimizers:\n",
        "    losses1 = list()\n",
        "    val_losses1 = list()\n",
        "    for epoch in range(epochs):\n",
        "        running_loss = 0.0\n",
        "        running_val_loss = 0.0\n",
        "        curr_model.train()\n",
        "\n",
        "        for iteration, sample1 in enumerate(training_data_loader):\n",
        "            img_train, mask_train = sample1\n",
        "            mask_train = mask_split(mask_train, batch_size)\n",
        "            img_train, mask_train = img_train.to(device).unsqueeze(1), mask_train.long().to(device)\n",
        "\n",
        "            optimizer.zero_grad()\n",
        "            outputs_train = curr_model(img_train)\n",
        "            loss = Loss(outputs_train, mask_train)\n",
        "            loss.backward()\n",
        "            optimizer.step()\n",
        "            running_loss += loss.item()\n",
        "          \n",
        "        with torch.no_grad():\n",
        "            curr_model.eval()\n",
        "\n",
        "            for sample2 in validation_data_loader:\n",
        "                img_val, mask_val = sample2\n",
        "                mask_val = mask_split(mask_val, batch_size)\n",
        "                img_val, mask_val = img_val.to(device).unsqueeze(1), mask_val.long().to(device)\n",
        "                \n",
        "                outputs_val = curr_model(img_val)\n",
        "                val_loss = Loss(outputs_val, mask_val)\n",
        "                running_val_loss += val_loss.item()\n",
        "\n",
        "        losses1.append(running_loss/25)\n",
        "        val_losses1.append(running_val_loss/5)\n",
        "        print(f\"[Optimizer {type(optimizer).__name__}] Train_Loss {running_loss/25}, Val_Loss{running_val_loss/5}\")\n",
        "\n",
        "    running_loss = 0.0\n",
        "    running_val_loss = 0.0\n",
        "\n",
        "    optimizer_losses.append((type(optimizer).__name__, losses1, val_losses1))\n",
        "\n",
        "plt.figure(figsize=(25,10))\n",
        "colors = 'ryb'\n",
        "for idx, data in enumerate(optimizer_losses):\n",
        "    plt.plot(range(len(data[1])), data[1], f'{colors[idx]}', label=f\"{data[0]} Training loss\")\n",
        "    plt.plot(range(len(data[2])), data[2], f'{colors[idx]}--', label=f\"{data[0]} Validation loss\")\n",
        "plt.ylim(0,1)\n",
        "plt.xlabel(\"Epoch\")\n",
        "plt.ylabel(\"Loss\")\n",
        "plt.legend()\n",
        "plt.show()"
      ],
      "execution_count": null,
      "outputs": [
        {
          "output_type": "stream",
          "name": "stdout",
          "text": [
            "[Optimizer Adam] Train_Loss 0.789133632183075, Val_Loss1.574729037284851\n",
            "[Optimizer Adam] Train_Loss 0.39444995164871216, Val_Loss0.3477186322212219\n",
            "[Optimizer Adam] Train_Loss 0.2342463767528534, Val_Loss0.28232755959033967\n",
            "[Optimizer Adam] Train_Loss 0.16276115775108338, Val_Loss0.1782752752304077\n",
            "[Optimizer Adam] Train_Loss 0.14646370381116866, Val_Loss0.15168020129203796\n",
            "[Optimizer Adam] Train_Loss 0.12474629938602448, Val_Loss0.17750180810689925\n",
            "[Optimizer Adam] Train_Loss 0.10572635352611542, Val_Loss0.14013204872608184\n",
            "[Optimizer Adam] Train_Loss 0.09223487317562103, Val_Loss0.10949844717979432\n",
            "[Optimizer Adam] Train_Loss 0.07996046334505082, Val_Loss0.08746309578418732\n",
            "[Optimizer Adam] Train_Loss 0.08059726864099502, Val_Loss0.12418948709964753\n",
            "[Optimizer Adam] Train_Loss 0.08277068585157395, Val_Loss0.11648865789175034\n",
            "[Optimizer Adam] Train_Loss 0.0693378472328186, Val_Loss0.08199500888586045\n",
            "[Optimizer SGD] Train_Loss 0.061481772661209105, Val_Loss0.07247912138700485\n",
            "[Optimizer SGD] Train_Loss 0.05840053230524063, Val_Loss0.06779820621013641\n",
            "[Optimizer SGD] Train_Loss 0.0568859675526619, Val_Loss0.06639158353209496\n",
            "[Optimizer SGD] Train_Loss 0.05711313024163246, Val_Loss0.06540940329432487\n",
            "[Optimizer SGD] Train_Loss 0.05313326925039291, Val_Loss0.06623266637325287\n",
            "[Optimizer SGD] Train_Loss 0.05229247942566872, Val_Loss0.06586304977536202\n",
            "[Optimizer SGD] Train_Loss 0.053902298510074616, Val_Loss0.06503965333104134\n",
            "[Optimizer SGD] Train_Loss 0.050306670814752576, Val_Loss0.06451346054673195\n",
            "[Optimizer SGD] Train_Loss 0.052351476550102236, Val_Loss0.06434030830860138\n",
            "[Optimizer SGD] Train_Loss 0.05175185367465019, Val_Loss0.0645634263753891\n",
            "[Optimizer SGD] Train_Loss 0.04972558096051216, Val_Loss0.06362425684928893\n",
            "[Optimizer SGD] Train_Loss 0.052111747711896896, Val_Loss0.06580219864845276\n",
            "[Optimizer Adagrad] Train_Loss 0.5201327961683273, Val_Loss0.5109655737876893\n",
            "[Optimizer Adagrad] Train_Loss 0.40350387811660765, Val_Loss0.4321856081485748\n",
            "[Optimizer Adagrad] Train_Loss 0.353733252286911, Val_Loss0.3567873120307922\n",
            "[Optimizer Adagrad] Train_Loss 0.317302827835083, Val_Loss0.33050251603126524\n",
            "[Optimizer Adagrad] Train_Loss 0.29174150466918947, Val_Loss0.30152428448200225\n",
            "[Optimizer Adagrad] Train_Loss 0.28040550827980043, Val_Loss0.2834828972816467\n",
            "[Optimizer Adagrad] Train_Loss 0.268819072842598, Val_Loss0.27561533749103545\n",
            "[Optimizer Adagrad] Train_Loss 0.25309975564479825, Val_Loss0.24712862074375153\n",
            "[Optimizer Adagrad] Train_Loss 0.24479863405227661, Val_Loss0.2650895655155182\n",
            "[Optimizer Adagrad] Train_Loss 0.23430658400058746, Val_Loss0.2344520539045334\n",
            "[Optimizer Adagrad] Train_Loss 0.2295694476366043, Val_Loss0.21727651059627534\n",
            "[Optimizer Adagrad] Train_Loss 0.22026952624320983, Val_Loss0.21552319824695587\n"
          ]
        },
        {
          "output_type": "display_data",
          "data": {
            "image/png": "[encoded data removed]",
            "text/plain": [
              "<Figure size 1800x720 with 1 Axes>"
            ]
          },
          "metadata": {
            "needs_background": "light"
          }
        }
      ]
    },
    {
      "cell_type": "markdown",
      "metadata": {
        "id": "IkOM5x1gusq9"
      },
      "source": [
        "Optimizer: SGD\n",
        "\n",
        "We picked SGD because SGD gives much more impressive result with the minimum ammount of iteration and it consistently perform the best compared to the other optimizer in all of the epochs."
      ]
    },
    {
      "cell_type": "markdown",
      "metadata": {
        "id": "Wc64yW-yiBwk"
      },
      "source": [
        "### 3.4 Choosing the batch size for UNet + DiceBCELoss"
      ]
    },
    {
      "cell_type": "code",
      "metadata": {
        "colab": {
          "base_uri": "https://localhost:8080/",
          "height": 1000
        },
        "id": "2eTWYTlll2cg",
        "outputId": "08493354-93c4-4b03-8487-f12b8be9f11d"
      },
      "source": [
        "# Experiment Part 4: Choosing the appropriate batch\n",
        "curr_model = UNetNew().to(device)\n",
        "Loss = DiceBCELoss()\n",
        "optimizer = optim.Adam(curr_model.parameters())\n",
        "epochs = 12\n",
        "\n",
        "batch_sizes = [4, 5]\n",
        "batch_losses = list()\n",
        "for batch_size in batch_sizes:\n",
        "\n",
        "    train_path = './data/train'\n",
        "    val_path = './data/val'\n",
        "    train_set = TrainDataset(train_path)\n",
        "    val_set = TrainDataset(val_path)\n",
        "    training_data_loader = DataLoader(dataset=train_set, num_workers=2, batch_size=batch_size, shuffle=True)\n",
        "    validation_data_loader = DataLoader(dataset=val_set, num_workers=2, batch_size=batch_size, shuffle=True)\n",
        "\n",
        "    losses1 = list()\n",
        "    val_losses1 = list()\n",
        "    for epoch in range(epochs):\n",
        "        running_loss = 0.0\n",
        "        running_val_loss = 0.0\n",
        "        curr_model.train()\n",
        "\n",
        "        for iteration, sample1 in enumerate(training_data_loader):\n",
        "            img_train, mask_train = sample1\n",
        "            mask_train = mask_split(mask_train, batch_size)\n",
        "            img_train, mask_train = img_train.to(device).unsqueeze(1), mask_train.long().to(device)\n",
        "\n",
        "            optimizer.zero_grad()\n",
        "            outputs_train = curr_model(img_train)\n",
        "            loss = Loss(outputs_train, mask_train)\n",
        "            loss.backward()\n",
        "            optimizer.step()\n",
        "            running_loss += loss.item()\n",
        "          \n",
        "        with torch.no_grad():\n",
        "            curr_model.eval()\n",
        "\n",
        "            for sample2 in validation_data_loader:\n",
        "                img_val, mask_val = sample2\n",
        "                mask_val = mask_split(mask_val, batch_size)\n",
        "                img_val, mask_val = img_val.to(device).unsqueeze(1), mask_val.long().to(device)\n",
        "                \n",
        "                outputs_val = curr_model(img_val)\n",
        "                val_loss = Loss(outputs_val, mask_val)\n",
        "                running_val_loss += val_loss.item()\n",
        "\n",
        "        losses1.append(running_loss/25)\n",
        "        val_losses1.append(running_val_loss/5)\n",
        "        print(f\"[Batch_size {batch_size}] Train_Loss {running_loss/25}, Val_Loss{running_val_loss/5}\")\n",
        "\n",
        "    running_loss = 0.0\n",
        "    running_val_loss = 0.0\n",
        "\n",
        "    batch_losses.append((batch_size, losses1, val_losses1))\n",
        "\n",
        "plt.figure(figsize=(25,10))\n",
        "colors = 'ryb'\n",
        "for idx, data in enumerate(batch_losses):\n",
        "    plt.plot(range(len(data[1])), data[1], f'{colors[idx]}', label=f\"{data[0]} Training loss\")\n",
        "    plt.plot(range(len(data[2])), data[2], f'{colors[idx]}--', label=f\"{data[0]} Validation loss\")\n",
        "plt.ylim(0,1)\n",
        "plt.xlabel(\"Epoch\")\n",
        "plt.ylabel(\"Loss\")\n",
        "plt.legend()\n",
        "plt.show()"
      ],
      "execution_count": null,
      "outputs": [
        {
          "output_type": "stream",
          "name": "stdout",
          "text": [
            "[Batch_size 4] Train_Loss 0.7580004155635833, Val_Loss18.212721061706542\n",
            "[Batch_size 4] Train_Loss 0.36404773831367493, Val_Loss0.3082803964614868\n",
            "[Batch_size 4] Train_Loss 0.22453807950019836, Val_Loss0.22152500450611115\n",
            "[Batch_size 4] Train_Loss 0.16741150885820388, Val_Loss0.17636477649211885\n",
            "[Batch_size 4] Train_Loss 0.15058424890041353, Val_Loss0.2113936275243759\n",
            "[Batch_size 4] Train_Loss 0.11786366462707519, Val_Loss0.1365399956703186\n",
            "[Batch_size 4] Train_Loss 0.10314581632614135, Val_Loss0.15090884566307067\n",
            "[Batch_size 4] Train_Loss 0.09374523341655731, Val_Loss0.11536370515823365\n",
            "[Batch_size 4] Train_Loss 0.08290551260113715, Val_Loss0.1351758822798729\n",
            "[Batch_size 4] Train_Loss 0.07516811981797218, Val_Loss0.09612439125776291\n",
            "[Batch_size 4] Train_Loss 0.08007784381508827, Val_Loss0.09696840345859528\n",
            "[Batch_size 4] Train_Loss 0.07081805571913719, Val_Loss0.08142371624708175\n",
            "[Batch_size 5] Train_Loss 0.05009794682264328, Val_Loss0.0718829169869423\n",
            "[Batch_size 5] Train_Loss 0.05074099361896515, Val_Loss0.09518640339374543\n",
            "[Batch_size 5] Train_Loss 0.05327670693397522, Val_Loss0.06740516573190689\n",
            "[Batch_size 5] Train_Loss 0.05029617950320244, Val_Loss0.06253205388784408\n",
            "[Batch_size 5] Train_Loss 0.04570376381278038, Val_Loss0.05397976189851761\n",
            "[Batch_size 5] Train_Loss 0.04273604065179825, Val_Loss0.0627044677734375\n",
            "[Batch_size 5] Train_Loss 0.04023040369153023, Val_Loss0.05841187238693237\n",
            "[Batch_size 5] Train_Loss 0.040144207775592806, Val_Loss0.07305368781089783\n",
            "[Batch_size 5] Train_Loss 0.03985240831971169, Val_Loss0.062193912267684934\n",
            "[Batch_size 5] Train_Loss 0.03902755349874496, Val_Loss0.06291930824518203\n",
            "[Batch_size 5] Train_Loss 0.037658554166555405, Val_Loss0.07498429268598557\n",
            "[Batch_size 5] Train_Loss 0.038433686941862104, Val_Loss0.05552787333726883\n"
          ]
        },
        {
          "output_type": "display_data",
          "data": {
            "image/png": "[encoded data removed]",
            "text/plain": [
              "<Figure size 1800x720 with 1 Axes>"
            ]
          },
          "metadata": {
            "needs_background": "light"
          }
        }
      ]
    },
    {
      "cell_type": "markdown",
      "metadata": {
        "id": "GV2V4UwAreUG"
      },
      "source": [
        "Batch size: 5"
      ]
    },
    {
      "cell_type": "markdown",
      "metadata": {
        "id": "xBmiIiK8lldh"
      },
      "source": [
        "By seeing the result, we can clearly state that batch = 5 in general has better performance than batch = 6, even when there's increasement in higher number of iterations it still manages to compute smaller loss compared to batch = 6. Thus we will be using batch size = 5 as well as DiceBCE as loss function and SGD as the optimizer that have been proven to be the most optimum to train the model and predict the data."
      ]
    },
    {
      "cell_type": "markdown",
      "metadata": {
        "id": "KQY5lEjLSKAD"
      },
      "source": [
        "## 4. Train model and predict test data"
      ]
    },
    {
      "cell_type": "markdown",
      "metadata": {
        "id": "DvlodI5cwgiW"
      },
      "source": [
        "### 4.1 Train network with the chosen model and epoch using both training and validation data"
      ]
    },
    {
      "cell_type": "code",
      "metadata": {
        "id": "RMhJ7z_Ugitp",
        "colab": {
          "base_uri": "https://localhost:8080/"
        },
        "outputId": "92189cda-57fc-4a10-cc0f-41beac3790f3"
      },
      "source": [
        "# Result of Experiment: Train network with the chosen model and epoch using both training and validation data\n",
        "\n",
        "curr_model = UNetNew().to(device)\n",
        "Loss = DiceBCELoss()\n",
        "optimizer = optim.SGD(curr_model.parameters(), lr=0.01, momentum=0.9)\n",
        "\n",
        "train_path = './data/train'\n",
        "val_path = './data/val'\n",
        "train_set = TrainDataset(train_path)\n",
        "val_set = TrainDataset(val_path)\n",
        "\n",
        "num_workers, epoches, batch_size = 2, 12, 5\n",
        "training_data_loader = DataLoader(dataset=train_set, num_workers=num_workers, batch_size=batch_size, shuffle=True)\n",
        "validation_data_loader = DataLoader(dataset=val_set, num_workers=num_workers, batch_size=batch_size, shuffle=True)\n",
        "\n",
        "for epoch in range(epoches):\n",
        "    for dataloader in [training_data_loader,validation_data_loader]:\n",
        "        for sample in dataloader:\n",
        "            img_train, mask_train = sample\n",
        "            mask_train = mask_split(mask_train, batch_size)\n",
        "            img_train, mask_train = img_train.to(device).unsqueeze(1), mask_train.long().to(device)\n",
        "\n",
        "            optimizer.zero_grad()\n",
        "            outputs_train = curr_model(img_train)\n",
        "            loss = Loss(outputs_train, mask_train)\n",
        "            loss.backward()\n",
        "            optimizer.step()\n",
        "    \n",
        "    print(f'Processing epoch: {epoch+1}')\n",
        "\n",
        "torch.save(curr_model.state_dict(), 'saved_model.pt')"
      ],
      "execution_count": null,
      "outputs": [
        {
          "output_type": "stream",
          "name": "stdout",
          "text": [
            "Processing epoch: 1\n",
            "Processing epoch: 2\n",
            "Processing epoch: 3\n",
            "Processing epoch: 4\n",
            "Processing epoch: 5\n",
            "Processing epoch: 6\n",
            "Processing epoch: 7\n",
            "Processing epoch: 8\n",
            "Processing epoch: 9\n",
            "Processing epoch: 10\n",
            "Processing epoch: 11\n",
            "Processing epoch: 12\n"
          ]
        }
      ]
    },
    {
      "cell_type": "markdown",
      "metadata": {
        "id": "tCZP-xof-Sst"
      },
      "source": [
        "### 4.2 Creating prediction from actual image"
      ]
    },
    {
      "cell_type": "code",
      "metadata": {
        "id": "LVS22lrjqW_V",
        "colab": {
          "base_uri": "https://localhost:8080/"
        },
        "outputId": "1a774b86-b0f7-434b-fd64-9fcfcda35f69"
      },
      "source": [
        "data_paths = [\n",
        "    './data/test',\n",
        "    './data/train',\n",
        "    './data/val'\n",
        "]\n",
        "num_workers = 4\n",
        "batch_size = 5\n",
        "\n",
        "for data_path in data_paths:\n",
        "    test_set = TestDataset(data_path)\n",
        "    test_data_loader = DataLoader(dataset=test_set, num_workers=num_workers,batch_size=batch_size, shuffle=False)\n",
        "\n",
        "    model_fin = UNetNew().to(device)\n",
        "    model_fin.load_state_dict(torch.load('./saved_model.pt'))\n",
        "    model_fin.eval()\n",
        "\n",
        "    for iteration, sample in enumerate(test_data_loader):\n",
        "        start_idx = batch_size * iteration\n",
        "        image_paths = test_set.img_files[start_idx:start_idx+batch_size]\n",
        "\n",
        "        img = sample\n",
        "        img = img.to(device).unsqueeze(1)\n",
        "        pred = model_fin(img)\n",
        "\n",
        "        # Move data to CPU\n",
        "        img, pred = img.cpu().detach().numpy(), pred.cpu().detach().numpy()\n",
        "        for i, prediction in enumerate(pred):\n",
        "            # Set value to 1 if larger than threshold, else 0\n",
        "            threshold = 0.5\n",
        "            prediction = prediction.clip(min=threshold)\n",
        "            for c in range(4):\n",
        "                prediction[c,...][prediction[c,...] > threshold] = c\n",
        "            \n",
        "            # Merge the channel by getting the maximum of each channel\n",
        "            pred_max = np.full((96, 96), 0, dtype=np.uint8)\n",
        "            for mask in prediction:\n",
        "                pred_max = np.maximum(pred_max, mask)\n",
        "\n",
        "            # Visualize current image and prediction\n",
        "            # show_image_mask(img[i].squeeze(), pred_max.squeeze())\n",
        "\n",
        "            # Get current image path\n",
        "            curr_img_path = image_paths[i].split('/')\n",
        "            mask_path = curr_img_path\n",
        "            mask_path[-2] = 'pred'\n",
        "\n",
        "            # Append _mask to filename\n",
        "            mask_filename = curr_img_path[-1].split('.')\n",
        "            mask_filename = f\"{mask_filename[0]}_mask.png\"\n",
        "            mask_path[-1] = mask_filename\n",
        "\n",
        "            # Save current mask to folder\n",
        "            mask_path = '/'.join(mask_path)\n",
        "            print(f\"Saving image: {mask_path}\")\n",
        "            cv2.imwrite(mask_path, pred_max.squeeze())"
      ],
      "execution_count": null,
      "outputs": [
        {
          "output_type": "stream",
          "name": "stderr",
          "text": [
            "/usr/local/lib/python3.7/dist-packages/torch/utils/data/dataloader.py:481: UserWarning: This DataLoader will create 4 worker processes in total. Our suggested max number of worker in current system is 2, which is smaller than what this DataLoader is going to create. Please be aware that excessive worker creation might get DataLoader running slow or even freeze, lower the worker number to avoid potential slowness/freeze if necessary.\n",
            "  cpuset_checked))\n"
          ]
        },
        {
          "output_type": "stream",
          "name": "stdout",
          "text": [
            "Saving image: ./data/test/pred/cmr145_mask.png\n",
            "Saving image: ./data/test/pred/cmr140_mask.png\n",
            "Saving image: ./data/test/pred/cmr191_mask.png\n",
            "Saving image: ./data/test/pred/cmr180_mask.png\n",
            "Saving image: ./data/test/pred/cmr139_mask.png\n",
            "Saving image: ./data/test/pred/cmr194_mask.png\n",
            "Saving image: ./data/test/pred/cmr175_mask.png\n",
            "Saving image: ./data/test/pred/cmr190_mask.png\n",
            "Saving image: ./data/test/pred/cmr152_mask.png\n",
            "Saving image: ./data/test/pred/cmr184_mask.png\n",
            "Saving image: ./data/test/pred/cmr171_mask.png\n",
            "Saving image: ./data/test/pred/cmr123_mask.png\n",
            "Saving image: ./data/test/pred/cmr177_mask.png\n",
            "Saving image: ./data/test/pred/cmr132_mask.png\n",
            "Saving image: ./data/test/pred/cmr166_mask.png\n",
            "Saving image: ./data/test/pred/cmr144_mask.png\n",
            "Saving image: ./data/test/pred/cmr167_mask.png\n",
            "Saving image: ./data/test/pred/cmr174_mask.png\n",
            "Saving image: ./data/test/pred/cmr133_mask.png\n",
            "Saving image: ./data/test/pred/cmr199_mask.png\n",
            "Saving image: ./data/test/pred/cmr147_mask.png\n",
            "Saving image: ./data/test/pred/cmr196_mask.png\n",
            "Saving image: ./data/test/pred/cmr186_mask.png\n",
            "Saving image: ./data/test/pred/cmr155_mask.png\n",
            "Saving image: ./data/test/pred/cmr164_mask.png\n",
            "Saving image: ./data/test/pred/cmr148_mask.png\n",
            "Saving image: ./data/test/pred/cmr160_mask.png\n",
            "Saving image: ./data/test/pred/cmr179_mask.png\n",
            "Saving image: ./data/test/pred/cmr150_mask.png\n",
            "Saving image: ./data/test/pred/cmr173_mask.png\n",
            "Saving image: ./data/test/pred/cmr156_mask.png\n",
            "Saving image: ./data/test/pred/cmr185_mask.png\n",
            "Saving image: ./data/test/pred/cmr169_mask.png\n",
            "Saving image: ./data/test/pred/cmr188_mask.png\n",
            "Saving image: ./data/test/pred/cmr146_mask.png\n",
            "Saving image: ./data/test/pred/cmr122_mask.png\n",
            "Saving image: ./data/test/pred/cmr138_mask.png\n",
            "Saving image: ./data/test/pred/cmr187_mask.png\n",
            "Saving image: ./data/test/pred/cmr195_mask.png\n",
            "Saving image: ./data/test/pred/cmr141_mask.png\n",
            "Saving image: ./data/test/pred/cmr193_mask.png\n",
            "Saving image: ./data/test/pred/cmr136_mask.png\n",
            "Saving image: ./data/test/pred/cmr168_mask.png\n",
            "Saving image: ./data/test/pred/cmr189_mask.png\n",
            "Saving image: ./data/test/pred/cmr192_mask.png\n",
            "Saving image: ./data/test/pred/cmr129_mask.png\n",
            "Saving image: ./data/test/pred/cmr125_mask.png\n",
            "Saving image: ./data/test/pred/cmr143_mask.png\n",
            "Saving image: ./data/test/pred/cmr153_mask.png\n",
            "Saving image: ./data/test/pred/cmr170_mask.png\n",
            "Saving image: ./data/test/pred/cmr181_mask.png\n",
            "Saving image: ./data/test/pred/cmr176_mask.png\n",
            "Saving image: ./data/test/pred/cmr183_mask.png\n",
            "Saving image: ./data/test/pred/cmr200_mask.png\n",
            "Saving image: ./data/test/pred/cmr157_mask.png\n",
            "Saving image: ./data/test/pred/cmr130_mask.png\n",
            "Saving image: ./data/test/pred/cmr142_mask.png\n",
            "Saving image: ./data/test/pred/cmr198_mask.png\n",
            "Saving image: ./data/test/pred/cmr121_mask.png\n",
            "Saving image: ./data/test/pred/cmr134_mask.png\n",
            "Saving image: ./data/test/pred/cmr127_mask.png\n",
            "Saving image: ./data/test/pred/cmr149_mask.png\n",
            "Saving image: ./data/test/pred/cmr158_mask.png\n",
            "Saving image: ./data/test/pred/cmr137_mask.png\n",
            "Saving image: ./data/test/pred/cmr131_mask.png\n",
            "Saving image: ./data/test/pred/cmr172_mask.png\n",
            "Saving image: ./data/test/pred/cmr162_mask.png\n",
            "Saving image: ./data/test/pred/cmr135_mask.png\n",
            "Saving image: ./data/test/pred/cmr163_mask.png\n",
            "Saving image: ./data/test/pred/cmr197_mask.png\n",
            "Saving image: ./data/test/pred/cmr126_mask.png\n",
            "Saving image: ./data/test/pred/cmr182_mask.png\n",
            "Saving image: ./data/test/pred/cmr178_mask.png\n",
            "Saving image: ./data/test/pred/cmr128_mask.png\n",
            "Saving image: ./data/test/pred/cmr165_mask.png\n",
            "Saving image: ./data/test/pred/cmr161_mask.png\n",
            "Saving image: ./data/test/pred/cmr159_mask.png\n",
            "Saving image: ./data/test/pred/cmr124_mask.png\n",
            "Saving image: ./data/test/pred/cmr151_mask.png\n",
            "Saving image: ./data/test/pred/cmr154_mask.png\n",
            "Saving image: ./data/train/pred/cmr19_mask.png\n",
            "Saving image: ./data/train/pred/cmr24_mask.png\n",
            "Saving image: ./data/train/pred/cmr80_mask.png\n",
            "Saving image: ./data/train/pred/cmr35_mask.png\n",
            "Saving image: ./data/train/pred/cmr76_mask.png\n",
            "Saving image: ./data/train/pred/cmr87_mask.png\n",
            "Saving image: ./data/train/pred/cmr15_mask.png\n",
            "Saving image: ./data/train/pred/cmr95_mask.png\n",
            "Saving image: ./data/train/pred/cmr61_mask.png\n",
            "Saving image: ./data/train/pred/cmr17_mask.png\n",
            "Saving image: ./data/train/pred/cmr34_mask.png\n",
            "Saving image: ./data/train/pred/cmr67_mask.png\n",
            "Saving image: ./data/train/pred/cmr59_mask.png\n",
            "Saving image: ./data/train/pred/cmr33_mask.png\n",
            "Saving image: ./data/train/pred/cmr28_mask.png\n",
            "Saving image: ./data/train/pred/cmr27_mask.png\n",
            "Saving image: ./data/train/pred/cmr22_mask.png\n",
            "Saving image: ./data/train/pred/cmr82_mask.png\n",
            "Saving image: ./data/train/pred/cmr11_mask.png\n",
            "Saving image: ./data/train/pred/cmr47_mask.png\n",
            "Saving image: ./data/train/pred/cmr36_mask.png\n",
            "Saving image: ./data/train/pred/cmr48_mask.png\n",
            "Saving image: ./data/train/pred/cmr66_mask.png\n",
            "Saving image: ./data/train/pred/cmr6_mask.png\n",
            "Saving image: ./data/train/pred/cmr74_mask.png\n",
            "Saving image: ./data/train/pred/cmr60_mask.png\n",
            "Saving image: ./data/train/pred/cmr40_mask.png\n",
            "Saving image: ./data/train/pred/cmr77_mask.png\n",
            "Saving image: ./data/train/pred/cmr78_mask.png\n",
            "Saving image: ./data/train/pred/cmr91_mask.png\n",
            "Saving image: ./data/train/pred/cmr58_mask.png\n",
            "Saving image: ./data/train/pred/cmr23_mask.png\n",
            "Saving image: ./data/train/pred/cmr51_mask.png\n",
            "Saving image: ./data/train/pred/cmr75_mask.png\n",
            "Saving image: ./data/train/pred/cmr69_mask.png\n",
            "Saving image: ./data/train/pred/cmr70_mask.png\n",
            "Saving image: ./data/train/pred/cmr71_mask.png\n",
            "Saving image: ./data/train/pred/cmr99_mask.png\n",
            "Saving image: ./data/train/pred/cmr7_mask.png\n",
            "Saving image: ./data/train/pred/cmr43_mask.png\n",
            "Saving image: ./data/train/pred/cmr18_mask.png\n",
            "Saving image: ./data/train/pred/cmr65_mask.png\n",
            "Saving image: ./data/train/pred/cmr100_mask.png\n",
            "Saving image: ./data/train/pred/cmr44_mask.png\n",
            "Saving image: ./data/train/pred/cmr84_mask.png\n",
            "Saving image: ./data/train/pred/cmr3_mask.png\n",
            "Saving image: ./data/train/pred/cmr50_mask.png\n",
            "Saving image: ./data/train/pred/cmr2_mask.png\n",
            "Saving image: ./data/train/pred/cmr57_mask.png\n",
            "Saving image: ./data/train/pred/cmr83_mask.png\n",
            "Saving image: ./data/train/pred/cmr39_mask.png\n",
            "Saving image: ./data/train/pred/cmr90_mask.png\n",
            "Saving image: ./data/train/pred/cmr86_mask.png\n",
            "Saving image: ./data/train/pred/cmr38_mask.png\n",
            "Saving image: ./data/train/pred/cmr88_mask.png\n",
            "Saving image: ./data/train/pred/cmr30_mask.png\n",
            "Saving image: ./data/train/pred/cmr5_mask.png\n",
            "Saving image: ./data/train/pred/cmr41_mask.png\n",
            "Saving image: ./data/train/pred/cmr93_mask.png\n",
            "Saving image: ./data/train/pred/cmr55_mask.png\n",
            "Saving image: ./data/train/pred/cmr31_mask.png\n",
            "Saving image: ./data/train/pred/cmr1_mask.png\n",
            "Saving image: ./data/train/pred/cmr53_mask.png\n",
            "Saving image: ./data/train/pred/cmr14_mask.png\n",
            "Saving image: ./data/train/pred/cmr64_mask.png\n",
            "Saving image: ./data/train/pred/cmr81_mask.png\n",
            "Saving image: ./data/train/pred/cmr68_mask.png\n",
            "Saving image: ./data/train/pred/cmr4_mask.png\n",
            "Saving image: ./data/train/pred/cmr89_mask.png\n",
            "Saving image: ./data/train/pred/cmr26_mask.png\n",
            "Saving image: ./data/train/pred/cmr29_mask.png\n",
            "Saving image: ./data/train/pred/cmr63_mask.png\n",
            "Saving image: ./data/train/pred/cmr45_mask.png\n",
            "Saving image: ./data/train/pred/cmr16_mask.png\n",
            "Saving image: ./data/train/pred/cmr73_mask.png\n",
            "Saving image: ./data/train/pred/cmr37_mask.png\n",
            "Saving image: ./data/train/pred/cmr62_mask.png\n",
            "Saving image: ./data/train/pred/cmr20_mask.png\n",
            "Saving image: ./data/train/pred/cmr97_mask.png\n",
            "Saving image: ./data/train/pred/cmr92_mask.png\n",
            "Saving image: ./data/train/pred/cmr54_mask.png\n",
            "Saving image: ./data/train/pred/cmr49_mask.png\n",
            "Saving image: ./data/train/pred/cmr96_mask.png\n",
            "Saving image: ./data/train/pred/cmr13_mask.png\n",
            "Saving image: ./data/train/pred/cmr56_mask.png\n",
            "Saving image: ./data/train/pred/cmr9_mask.png\n",
            "Saving image: ./data/train/pred/cmr21_mask.png\n",
            "Saving image: ./data/train/pred/cmr32_mask.png\n",
            "Saving image: ./data/train/pred/cmr52_mask.png\n",
            "Saving image: ./data/train/pred/cmr10_mask.png\n",
            "Saving image: ./data/train/pred/cmr8_mask.png\n",
            "Saving image: ./data/train/pred/cmr79_mask.png\n",
            "Saving image: ./data/train/pred/cmr94_mask.png\n",
            "Saving image: ./data/train/pred/cmr72_mask.png\n",
            "Saving image: ./data/train/pred/cmr12_mask.png\n",
            "Saving image: ./data/train/pred/cmr42_mask.png\n",
            "Saving image: ./data/train/pred/cmr98_mask.png\n",
            "Saving image: ./data/train/pred/cmr46_mask.png\n",
            "Saving image: ./data/train/pred/cmr25_mask.png\n",
            "Saving image: ./data/train/pred/cmr85_mask.png\n",
            "Saving image: ./data/val/pred/cmr102_mask.png\n",
            "Saving image: ./data/val/pred/cmr118_mask.png\n",
            "Saving image: ./data/val/pred/cmr104_mask.png\n",
            "Saving image: ./data/val/pred/cmr106_mask.png\n",
            "Saving image: ./data/val/pred/cmr103_mask.png\n",
            "Saving image: ./data/val/pred/cmr110_mask.png\n",
            "Saving image: ./data/val/pred/cmr119_mask.png\n",
            "Saving image: ./data/val/pred/cmr114_mask.png\n",
            "Saving image: ./data/val/pred/cmr116_mask.png\n",
            "Saving image: ./data/val/pred/cmr111_mask.png\n",
            "Saving image: ./data/val/pred/cmr108_mask.png\n",
            "Saving image: ./data/val/pred/cmr113_mask.png\n",
            "Saving image: ./data/val/pred/cmr105_mask.png\n",
            "Saving image: ./data/val/pred/cmr112_mask.png\n",
            "Saving image: ./data/val/pred/cmr115_mask.png\n",
            "Saving image: ./data/val/pred/cmr101_mask.png\n",
            "Saving image: ./data/val/pred/cmr120_mask.png\n",
            "Saving image: ./data/val/pred/cmr117_mask.png\n",
            "Saving image: ./data/val/pred/cmr109_mask.png\n",
            "Saving image: ./data/val/pred/cmr107_mask.png\n"
          ]
        }
      ]
    },
    {
      "cell_type": "code",
      "metadata": {
        "id": "VBsab9sik5Ja",
        "colab": {
          "base_uri": "https://localhost:8080/",
          "height": 157
        },
        "outputId": "7a58e63e-9088-4ba6-ee11-8707633f220e"
      },
      "source": [
        "data_dir = './data/test'\n",
        "image = cv2.imread(os.path.join(data_dir,'image','cmr121.png'), cv2.IMREAD_UNCHANGED)\n",
        "mask = cv2.imread(os.path.join(data_dir,'pred','cmr121_mask.png'), cv2.IMREAD_UNCHANGED)\n",
        "show_image_mask(image, mask, cmap='gray')\n",
        "plt.pause(1)"
      ],
      "execution_count": null,
      "outputs": [
        {
          "output_type": "display_data",
          "data": {
            "image/png": "[encoded data removed]",
            "text/plain": [
              "<Figure size 360x360 with 2 Axes>"
            ]
          },
          "metadata": {
            "needs_background": "light"
          }
        }
      ]
    },
    {
      "cell_type": "markdown",
      "metadata": {
        "id": "wsycVbIuUov3"
      },
      "source": [
        "## 5. Evaluation\n",
        "\n",
        "As we will automatically evaluate your predicted test makes on Kaggle, in this section we expect you to learn:\n",
        "* what is the Dice score used on Kaggle to measure your models performance\n",
        "* how to submit your predicted masks to Kaggle"
      ]
    },
    {
      "cell_type": "markdown",
      "metadata": {
        "id": "NicQyj47jsD1"
      },
      "source": [
        "### 5.1 Dice Score\n",
        "\n",
        "To evaluate the quality of the predicted masks, the Dice score is adopted. Dice score on two masks A and B is defined as the intersection ratio between the overlap area and the average area of two masks. A higher Dice suggests a better registration.\n",
        "\n",
        "$Dice (A, B)= \\frac{2|A \\cap B|}{|A| + |B|} $\n",
        "\n",
        "However, in our coursework, we have three labels in each mask, we will compute the Dice score for each label and then average the three of them as the final score. Below we have given you `categorical_dice` for free so you can test your results before submission to Kaggle."
      ]
    },
    {
      "cell_type": "code",
      "metadata": {
        "id": "RzOY4GROqW_V"
      },
      "source": [
        "def categorical_dice(mask1, mask2, label_class=1):\n",
        "    \"\"\"\n",
        "    Dice score of a specified class between two volumes of label masks.\n",
        "    (classes are encoded but by label class number not one-hot )\n",
        "    Note: stacks of 2D slices are considered volumes.\n",
        "\n",
        "    Args:\n",
        "        mask1: N label masks, numpy array shaped (H, W, N)\n",
        "        mask2: N label masks, numpy array shaped (H, W, N)\n",
        "        label_class: the class over which to calculate dice scores\n",
        "\n",
        "    Returns:\n",
        "        volume_dice\n",
        "    \"\"\"\n",
        "    # mask1_pos = (mask1 == label_class).numpy().astype(np.float32)\n",
        "    # mask2_pos = (mask2 == label_class).numpy().astype(np.float32)\n",
        "    mask1_pos = (mask1 == label_class).astype(np.float32)\n",
        "    mask2_pos = (mask2 == label_class).astype(np.float32)\n",
        "    dice = 2 * np.sum(mask1_pos * mask2_pos) / (np.sum(mask1_pos) + np.sum(mask2_pos))\n",
        "    return dice"
      ],
      "execution_count": null,
      "outputs": []
    },
    {
      "cell_type": "markdown",
      "metadata": {
        "id": "xopdO_ZPUEcG"
      },
      "source": [
        "### 5.2 Measure predicted masks of training set using dice score"
      ]
    },
    {
      "cell_type": "code",
      "metadata": {
        "id": "a9Vxa3zymMBO",
        "colab": {
          "base_uri": "https://localhost:8080/"
        },
        "outputId": "5151fef2-d851-4cc1-ce6f-6e73504c26cd"
      },
      "source": [
        "data_dir = './data/train'\n",
        "actual_mask_files = glob(os.path.join(data_dir,'mask','*.png'))\n",
        "pred_mask_files = glob(os.path.join(data_dir,'pred','*.png'))\n",
        "\n",
        "sum_dice = 0.0\n",
        "nan_dice = 0\n",
        "\n",
        "for actual_mask_file in actual_mask_files:\n",
        "    actual_mask_filename = actual_mask_file.split('/')[-1]\n",
        "    pred_mask_file = glob(os.path.join(data_dir,'pred',actual_mask_filename))[0]\n",
        "\n",
        "    actual_mask = cv2.imread((actual_mask_file), cv2.IMREAD_UNCHANGED)\n",
        "    pred_mask = cv2.imread((pred_mask_file), cv2.IMREAD_UNCHANGED)\n",
        "\n",
        "    running_dice = 0.0\n",
        "    for c in range(1, 4):\n",
        "        running_dice += categorical_dice(actual_mask, pred_mask, c)\n",
        "    \n",
        "    avg_dice = running_dice/3\n",
        "    if np.isnan(avg_dice):\n",
        "        nan_dice += 1\n",
        "        continue\n",
        "    sum_dice += avg_dice\n",
        "\n",
        "print(f'\\nAverage dice score: {sum_dice/(len(actual_mask_files)-nan_dice)}')"
      ],
      "execution_count": null,
      "outputs": [
        {
          "output_type": "stream",
          "name": "stdout",
          "text": [
            "\n",
            "Average dice score: 0.8988709928185101\n"
          ]
        }
      ]
    }
  ]
}